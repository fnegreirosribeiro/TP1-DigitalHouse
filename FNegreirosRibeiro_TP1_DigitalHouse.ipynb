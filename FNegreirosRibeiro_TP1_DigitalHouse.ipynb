{
 "cells": [
  {
   "cell_type": "markdown",
   "metadata": {
    "id": "C6z61xG076bP"
   },
   "source": [
    "# Carga del dataset a la notebook"
   ]
  },
  {
   "cell_type": "code",
   "execution_count": null,
   "metadata": {},
   "outputs": [],
   "source": [
    "import pandas as pd\n",
    "import numpy as np\n",
    "import re\n",
    "import seaborn as sns\n",
    "import matplotlib.pyplot as plt\n",
    "import geopandas as gpd \n",
    "import descartes\n",
    "import contextily as ctx\n",
    "import osmnx as ox\n",
    "from shapely.geometry import Point"
   ]
  },
  {
   "cell_type": "code",
   "execution_count": null,
   "metadata": {
    "id": "DQ34hyOMM96i"
   },
   "outputs": [],
   "source": [
    "data = pd.read_csv('properatti.csv')"
   ]
  },
  {
   "cell_type": "markdown",
   "metadata": {
    "id": "As-4Ec4dGCKv"
   },
   "source": [
    "# Limpieza del dataset y primer análisis de datos faltantes"
   ]
  },
  {
   "cell_type": "markdown",
   "metadata": {
    "id": "zJwGd9nkTi26"
   },
   "source": [
    "###Dropeo inicial de columnas"
   ]
  },
  {
   "cell_type": "code",
   "execution_count": null,
   "metadata": {
    "colab": {
     "base_uri": "https://localhost:8080/"
    },
    "id": "RKTOvNy7GR1n",
    "outputId": "d869cc42-91aa-47c6-b5d8-f75388281114"
   },
   "outputs": [],
   "source": [
    "data.columns"
   ]
  },
  {
   "cell_type": "markdown",
   "metadata": {
    "id": "yf5BTORUfTWh"
   },
   "source": [
    "**Columnas que no aportan información a nivel individual de datos:**\n",
    "\n",
    "Algunas columnas poseen información que no aportan al análisis de datos. Por ejemplo, la columna \"Unnamed 0:\" es un duplicado de los índices, y la columna \"operation\" toma el valor \"sell\" para todas las filas, y \"country_name\" siempre tiene el valor \"Argentina\":"
   ]
  },
  {
   "cell_type": "code",
   "execution_count": null,
   "metadata": {
    "colab": {
     "base_uri": "https://localhost:8080/"
    },
    "id": "FMnjE7tufcVD",
    "outputId": "4667d058-201e-4856-ac33-862e907273df"
   },
   "outputs": [],
   "source": [
    "data['operation'].value_counts()"
   ]
  },
  {
   "cell_type": "markdown",
   "metadata": {
    "id": "vohlue2xvN1Q"
   },
   "source": [
    "La columna \"expenses\" tiene demasiados datos faltantes, y esa información no puede ser recuperada de otros campos."
   ]
  },
  {
   "cell_type": "code",
   "execution_count": null,
   "metadata": {
    "colab": {
     "base_uri": "https://localhost:8080/"
    },
    "id": "omEv0Zd3vXeg",
    "outputId": "7d22a8ee-165c-43da-a8c5-1f0ab4a6b1e7"
   },
   "outputs": [],
   "source": [
    "print('Porcentaje de nulos en columna expensas:', \n",
    "      round((data['expenses'].isnull().sum())/len(data['expenses'])*100,2),'%')"
   ]
  },
  {
   "cell_type": "markdown",
   "metadata": {
    "id": "v3zGaPhagLw1"
   },
   "source": [
    "Eliminamos entonces las columnas que no aportan información relevante:"
   ]
  },
  {
   "cell_type": "code",
   "execution_count": null,
   "metadata": {
    "id": "8oAd9udyCs9R"
   },
   "outputs": [],
   "source": [
    "data.drop(columns=['Unnamed: 0', \n",
    "                   'operation',\n",
    "                   'place_with_parent_names',\n",
    "                   'country_name',\n",
    "                   'geonames_id',\n",
    "                   'lat-lon',\n",
    "                   'currency',\n",
    "                   'expenses',\n",
    "                   'properati_url',\n",
    "                   'image_thumbnail'],\n",
    "          inplace = True)"
   ]
  },
  {
   "cell_type": "code",
   "execution_count": null,
   "metadata": {
    "colab": {
     "base_uri": "https://localhost:8080/",
     "height": 450
    },
    "id": "-z_t_kX0HRz6",
    "outputId": "c1663d50-ff75-45a1-e775-12805bfdf57b"
   },
   "outputs": [],
   "source": [
    "data.head(3)"
   ]
  },
  {
   "cell_type": "markdown",
   "metadata": {
    "id": "umdsv8cKhqEJ"
   },
   "source": [
    "### Elección de datos de precio"
   ]
  },
  {
   "cell_type": "markdown",
   "metadata": {
    "id": "ddC_yZgDiBKv"
   },
   "source": [
    "Como las propiedades sin precio no sirven para generar o probar ningún modelo, y es un dato que no podemos recuperar desde otra columna del DataFrame, tenemos que eliminarlas sí o sí. Hay 3 columnas con datos de precios totales, y 2 con datos de precio por metro cuadrado. En el caso de las 3 primeras, observamos que hay una cantidad igual de datos nulos (no puede extraerse info en ninguna moneda), y hay aún más datos faltantes cuando hablamos de precio por superficie:"
   ]
  },
  {
   "cell_type": "code",
   "execution_count": null,
   "metadata": {
    "colab": {
     "base_uri": "https://localhost:8080/"
    },
    "id": "J3BZMGOXiSn9",
    "outputId": "19088c82-b85a-4058-aab2-8bddcee8af67"
   },
   "outputs": [],
   "source": [
    "print('Cantidad de nulos en columna \"price\": ', data['price'].isnull().sum())\n",
    "print('Cantidad de nulos en columna \"price_aprox_usd\": ', data['price_aprox_usd'].isnull().sum())\n",
    "print('Cantidad de nulos en columna \"price_aprox_local_currency\": ', data['price_aprox_local_currency'].isnull().sum())\n",
    "print('Cantidad de nulos en columna \"price_usd_per_m2\": ', data['price_usd_per_m2'].isnull().sum())\n",
    "print('Cantidad de nulos en columna \"price_per_m2\": ', data['price_per_m2'].isnull().sum())"
   ]
  },
  {
   "cell_type": "markdown",
   "metadata": {
    "id": "UuaEc-54gBRe"
   },
   "source": [
    "Por una cuestión de mercado en Argentina, creemos conveniente tomar como precio válido el precio de las propiedades en dólares. Habiendo intentado sin éxito completar nulos a través de datos en la columna \"description\", y sabiendo (por lo que describimos arriba) que no podemos obtener esos datos en otras monedas, optamos por eliminar todas las filas que no contienen datos en \"price_aprox_usd\", y chequeamos que esto elimina todos los datos nulos relacionados a precios totales:"
   ]
  },
  {
   "cell_type": "code",
   "execution_count": null,
   "metadata": {
    "colab": {
     "base_uri": "https://localhost:8080/"
    },
    "id": "9omOTpHIgppZ",
    "outputId": "41f64127-4bfa-4818-983b-8bd73002c56a"
   },
   "outputs": [],
   "source": [
    "print('Tamaño antes de limpieza del dataset: ', len(data), '\\n')\n",
    "data = data.dropna(axis = 0, subset = ['price_aprox_usd'])\n",
    "print('Tamaño luego de limpieza del dataset: ', len(data))"
   ]
  },
  {
   "cell_type": "code",
   "execution_count": null,
   "metadata": {
    "id": "Sbz22FawxYo3"
   },
   "outputs": [],
   "source": [
    "print('Cantidad de nulos en columna \"price\": ', data['price'].isnull().sum())\n",
    "print('Cantidad de nulos en columna \"price_aprox_usd\": ', data['price_aprox_usd'].isnull().sum())\n",
    "print('Cantidad de nulos en columna \"price_aprox_local_currency\": ', data['price_aprox_local_currency'].isnull().sum())"
   ]
  },
  {
   "cell_type": "markdown",
   "metadata": {
    "id": "CwJpbzkjN5EF"
   },
   "source": [
    "### Eliminación de datos duplicados"
   ]
  },
  {
   "cell_type": "code",
   "execution_count": null,
   "metadata": {
    "colab": {
     "base_uri": "https://localhost:8080/"
    },
    "id": "Tl6d1MsDMh5r",
    "outputId": "e999ce75-b39a-4efe-d335-7b4b8ef131a6"
   },
   "outputs": [],
   "source": [
    "data.drop_duplicates(inplace = True)\n",
    "print('Tamaño del dataset luego de eliminar las filas duplicadas: ', len(data))"
   ]
  },
  {
   "cell_type": "markdown",
   "metadata": {
    "id": "xqF1TZ2mjL0U"
   },
   "source": [
    "### Recuperación de datos"
   ]
  },
  {
   "cell_type": "markdown",
   "metadata": {
    "id": "jXw7OkFhhaRH"
   },
   "source": [
    "Observamos que los datos de \"surface_covered_in_m2\" contienen valores que, según las descripciones, son claramente erróneos. Por ejemplo, vemos que hay muchas propiedades con una superficie cubierta inferior a 21 m2 y en todos los casos analizados pudimos determinar que se trataba de un error. También quitamos todos los valores de superficies cubiertas menores a 25 m2 en propiedades con mas de un ambiente ya que también consideramos que es un error. Por otra parte, encontramos que las propiedades de tipo \"home\", \"PH\" y \"apartment\" que tenían una superficie cubierta superior a los 1000 m2 también podían ser consideradas como errores de carga de datos si leemos la descripción de la publicación.\n",
    "\n",
    "Por este motivo, antes de comenzar a extraer datos, llenamos con nulos todos los valores mencionados en el punto anterior. De esta forma, pretendemos volver a completarlo luego con un valor correcto o, en su defecto, eliminar esta fila posteriormente."
   ]
  },
  {
   "cell_type": "code",
   "execution_count": null,
   "metadata": {
    "colab": {
     "base_uri": "https://localhost:8080/"
    },
    "id": "0Z3DEXZCiHyF",
    "outputId": "fc85738f-bfeb-4ef9-8693-f6df8e4df749"
   },
   "outputs": [],
   "source": [
    "print('Cantidad de nulos en surface_covered_in_m2 antes:', \n",
    "      data['surface_covered_in_m2'].isnull().sum())\n",
    "\n",
    "data['surface_covered_in_m2'] = data.apply(\n",
    "    lambda x: np.NaN if (x['surface_covered_in_m2'] < 21) else x['surface_covered_in_m2'], axis = 1)\n",
    "\n",
    "data['surface_covered_in_m2'] = data.apply(\n",
    "    lambda x: np.NaN if ((x['surface_covered_in_m2'] > 1000) & (x['property_type'] != 'store')) else x['surface_covered_in_m2'], axis = 1)\n",
    "\n",
    "def f_nulos(x):\n",
    "    if ((x['surface_covered_in_m2'] < 25) & (x['rooms'] > 1)):\n",
    "        return np.NaN\n",
    "    else:\n",
    "        return x['surface_covered_in_m2']\n",
    "\n",
    "data['surface_covered_in_m2'] = data.apply(f_nulos, axis = 1)\n",
    "\n",
    "print('Cantidad de nulos en surface_covered_in_m2 después:', \n",
    "      data['surface_covered_in_m2'].isnull().sum())\n"
   ]
  },
  {
   "cell_type": "code",
   "execution_count": null,
   "metadata": {
    "id": "cMlu1W4nGFoS"
   },
   "outputs": [],
   "source": [
    "# El campo \"description\" no puede contener nulos para poder extraer los datos.\n",
    "\n",
    "data['description'] = data['description'].fillna('Sin descripcion')"
   ]
  },
  {
   "cell_type": "markdown",
   "metadata": {
    "id": "ci_b21NQ_qUV"
   },
   "source": [
    "Creamos una función para intentar recuperar valores de \"surface_covered_in_m2\" a partir de la descripción del inmueble:"
   ]
  },
  {
   "cell_type": "code",
   "execution_count": null,
   "metadata": {
    "id": "QwhxedA-_oqn"
   },
   "outputs": [],
   "source": [
    "def minar_sup_cubierta(dataset):\n",
    "    \"\"\"Intenta extraer el valor de la superficie cubierta desde la columna dataset['description']\"\"\"   \n",
    "    print('Extrayendo datos...')\n",
    "    \n",
    "    dataset['cub_m2'] = dataset['surface_covered_in_m2'].astype(float).copy()\n",
    "    \n",
    "    antes = dataset['cub_m2'].isnull().sum()\n",
    "    print('Nulos antes:', antes)\n",
    "   \n",
    "    patrones = ['departamento de ((\\S+)m)', 'departamento de ((\\S+) m)', 'departamento de((\\S+)m)', \n",
    "                'departamento de((\\S+) m)', 'departamento ((\\S+)m)', 'departamento ((\\S+) m)', \n",
    "                'casa de ((\\S+)m)', 'casa de ((\\S+) m)', 'casa de((\\S+)m)', 'casa de((\\S+) m)', 'casa ((\\S+)m)', \n",
    "                'casa ((\\S+) m)', 'depto. de ((\\S+)m)', 'depto. de ((\\S+) m)', 'depto de ((\\S+)m)', \n",
    "                'depto de ((\\S+) m)', 'depto ((\\S+)m)', 'depto ((\\S+)m)', 'depto. ((\\S+)m)', 'depto. ((\\S+) m)', \n",
    "                'semipiso de ((\\S+) m)', 'semipiso de ((\\S+)m)', 'semipiso ((\\S+) m)', 'semipiso ((\\S+)m)',\n",
    "                'local ((\\S+)m)', 'local ((\\S+) m)', 'local de ((\\S+)m)', 'local de ((\\S+) m)', 'comercial de ((\\S+)m)', \n",
    "                'comercial de ((\\S+) m)',\n",
    "                \n",
    "                'cubierta de ((\\S+) m)', 'cubierta de ((\\S+)m)', 'cubierta ((\\S+) m)', 'cubierta ((\\S+)m)', \n",
    "                'cubierta es de ((\\S+)m)', 'cubierta es de ((\\S+) m)', 'cubierta de((\\S+)m)', 'cubierta de((\\S+) m)',\n",
    "                'cubierta : ((\\S+)m)', 'cubierta : ((\\S+) m)', 'cubierta: ((\\S+) m)', 'cubierta: ((\\S+)m)',\n",
    "                'sup.cub: ((\\S+) m)', 'sup.cub: ((\\S+)m)', 'sup.cub:((\\S+) m)', 'sup.cub:((\\S+)m)', 'cub: ((\\S+) m)', \n",
    "                'cub: ((\\S+ )m)', 'cub.: ((\\S+) m)', 'cub.: ((\\S+ )m)', '((\\S+) m2 cub)', '((\\S+)m2 cub)', \n",
    "                '((\\S+) metros cub)',  'cubiertos: ((\\S+)m)', 'cubiertos: ((\\S+) m)',                \n",
    "                '((\\S+) metros const)', '((\\S+)m2 const)', '((\\S+) m2 const)', 'construidos: ((\\S+)m)', 'construidos: ((\\S+) m)', \n",
    "                'amplio de ((\\S+) m)', 'amplio de ((\\S+)m)',  '( (\\S+) m2 exclus)']\n",
    "   \n",
    "    pat2 = '[a-zA-Z:-]+'\n",
    "    rg = re.compile(pat2, flags = re.IGNORECASE)\n",
    "\n",
    "    def f_cub(x):\n",
    "        if (x['cub_m2'] > 0):\n",
    "            return x['cub_m2']\n",
    "        elif regex.search(x['description']) != None:\n",
    "            s = regex.search(x['description']).group(2)\n",
    "            try:\n",
    "                n = float(s)\n",
    "                if n < 21:\n",
    "                   return np.NaN\n",
    "                else:\n",
    "                   return float(n)\n",
    "            except:\n",
    "                n = rg.sub('',s)\n",
    "                try:\n",
    "                    if n < 21:\n",
    "                      return np.NaN\n",
    "                    else:\n",
    "                      return float(n)\n",
    "                except:\n",
    "                    return np.NaN\n",
    "        else:\n",
    "            return np.NaN\n",
    "        \n",
    "    for i, patron in enumerate(patrones):\n",
    "        regex = re.compile(patron, flags = re.IGNORECASE)\n",
    "        dataset['cub_m2'] = dataset.apply(f_cub, axis = 1)\n",
    "        \n",
    "    serie = dataset['cub_m2'].copy()\n",
    "    \n",
    "   \n",
    "    despues = serie.isnull().sum() \n",
    "    print('Nulos despues:', despues, '\\n')\n",
    "    \n",
    "    print('Fin del proceso. Se encontraron', (antes - despues), 'nuevos datos')\n",
    "    \n",
    "    return serie\n"
   ]
  },
  {
   "cell_type": "code",
   "execution_count": null,
   "metadata": {
    "colab": {
     "base_uri": "https://localhost:8080/"
    },
    "id": "rrYnTbJMByvO",
    "outputId": "7456c036-62bd-428f-fef1-fc3501696fab"
   },
   "outputs": [],
   "source": [
    "serie_sup_cub = minar_sup_cubierta(data.loc[:, ['surface_covered_in_m2', 'description']])"
   ]
  },
  {
   "cell_type": "code",
   "execution_count": null,
   "metadata": {
    "id": "geFDULXtByyK"
   },
   "outputs": [],
   "source": [
    "data['surface_covered_in_m2'] = serie_sup_cub.copy()\n",
    "del serie_sup_cub"
   ]
  },
  {
   "cell_type": "markdown",
   "metadata": {
    "id": "miHrMDoLEC4H"
   },
   "source": [
    "Recuperamos todos los valores posibles de \"rooms\":"
   ]
  },
  {
   "cell_type": "code",
   "execution_count": null,
   "metadata": {
    "id": "1TlaF47sEGq8"
   },
   "outputs": [],
   "source": [
    "def minar_ambientes(dataset):\n",
    "    \"\"\"Intenta extraer el número de ambientes desde la columna dataset['description']\"\"\"\n",
    "    \n",
    "    dataset['ambientes'] = dataset['rooms'].astype(float).copy()   #pd.Series([np.NaN for i in range(len(dataset))])\n",
    "    \n",
    "    num_to_text = ['cero', 'un', 'dos', 'tres', 'cuatro', 'cinco', 'seis', 'siete', 'ocho', \n",
    "                   'nueve', 'diez']\n",
    "    \n",
    "    j = 0\n",
    "    \n",
    "    for i in range(1, 10):\n",
    "        patron = '(' + str(i) + ' amb)'\n",
    "        regex = re.compile(patron, flags = re.IGNORECASE)\n",
    "        dataset['ambientes'] = dataset.apply(lambda x: x['ambientes'] if regex.search(x['description']) == None else i, axis = 1)\n",
    "        \n",
    "        patron = '(' + num_to_text[i] + ' amb)'\n",
    "        regex = re.compile(patron, flags = re.IGNORECASE)\n",
    "        dataset['ambientes'] = dataset.apply(lambda x: x['ambientes'] if regex.search(x['description']) == None else i, axis = 1)\n",
    "        \n",
    "        print('Cant. Nulos con iteración: ', i, ' ', dataset['ambientes'].isnull().sum())\n",
    "        j = i\n",
    "        \n",
    "    j+=1    \n",
    "    patron = '(monoamb)'\n",
    "    regex = re.compile(patron, flags = re.IGNORECASE)\n",
    "    dataset['ambientes'] = dataset.apply(lambda x: x['ambientes'] if regex.search(x['description']) == None else 1, axis = 1)\n",
    "    print('Cant. Nulos con interación: ', j, ' ', dataset['ambientes'].isnull().sum())\n",
    "    j+=1\n",
    "    \n",
    "    patron = '(mono amb)'\n",
    "    regex = re.compile(patron, flags = re.IGNORECASE)\n",
    "    dataset['ambientes'] = dataset.apply(lambda x: x['ambientes'] if regex.search(x['description']) == None else 1, axis = 1)\n",
    "    print('Cant. Nulos con interación: ', j, ' ', dataset['ambientes'].isnull().sum())\n",
    "    j+=1\n",
    "    \n",
    "    patron = '(ambiente unico)'\n",
    "    regex = re.compile(patron, flags = re.IGNORECASE)\n",
    "    dataset['ambientes'] = dataset.apply(lambda x: x['ambientes'] if regex.search(x['description']) == None else 1, axis = 1)\n",
    "\n",
    "    patron = '(ambiente único)'\n",
    "    regex = re.compile(patron, flags = re.IGNORECASE)\n",
    "    dataset['ambientes'] = dataset.apply(lambda x: x['ambientes'] if regex.search(x['description']) == None else 1, axis = 1)\n",
    "\n",
    "    \n",
    "    print('\\nCant. final de nulos: ', dataset['ambientes'].isnull().sum())\n",
    "    \n",
    "    #retorna una serie\n",
    "    return dataset['ambientes']\n",
    "    "
   ]
  },
  {
   "cell_type": "code",
   "execution_count": null,
   "metadata": {
    "colab": {
     "base_uri": "https://localhost:8080/"
    },
    "id": "jz-cN5gND503",
    "outputId": "66c5f170-2580-4413-c72e-6105f3fd019d"
   },
   "outputs": [],
   "source": [
    "print('Cantidad inicial de nulos en \"rooms\":', data['rooms'].isnull().sum(), '\\n')\n",
    "serie_ambientes = minar_ambientes(data.loc[:,['rooms', 'description']])"
   ]
  },
  {
   "cell_type": "code",
   "execution_count": null,
   "metadata": {
    "id": "BaENCZ0UD53q"
   },
   "outputs": [],
   "source": [
    "data['rooms'] = serie_ambientes.copy()\n",
    "del serie_ambientes"
   ]
  },
  {
   "cell_type": "markdown",
   "metadata": {
    "id": "MnX9x2RNEUe0"
   },
   "source": [
    "Ahora intentamos extraer la cantidad de habitaciones de cada propiedad:\n",
    "\n"
   ]
  },
  {
   "cell_type": "code",
   "execution_count": null,
   "metadata": {
    "id": "2_fKMQxID56R"
   },
   "outputs": [],
   "source": [
    "def minar_habitaciones(dataset):\n",
    "    \"\"\"Intenta extraer el número de habitaciones desde la columna dataset['description']\"\"\"\n",
    "    \n",
    "    dataset['cuartos'] = pd.Series([np.NaN for i in range(len(dataset))])\n",
    "    \n",
    "    print('Cant. inicial de nulos:', len(dataset))\n",
    "   \n",
    "    num_to_text = ['cero', 'una', 'dos', 'tres', 'cuatro', 'cinco', 'seis', 'siete', 'ocho', 'nueve']\n",
    "    num_to_text2 = ['cero', 'un', 'dos', 'tres', 'cuatro', 'cinco', 'seis', 'siete', 'ocho', 'nueve']\n",
    "    num_to_text3 = ['cero', 'primer', 'segundo', 'tercer', 'cuarto', 'quinto', 'sexto', 'septimo', \n",
    "                    'octavo', 'noveno']\n",
    "    num_to_text4 = ['cero', 'primera', 'segunda', 'tercera', 'cuarta', 'quinta', 'sexta', 'septima', \n",
    "                    'octava', 'novena']\n",
    "\n",
    "\n",
    "    # Empiezo por la mayor cantidad de habitaciones ya que a veces se describen como\n",
    "    # \"5 habitaciones, 2 hab. en pb y 3 hab. en pa.\"\n",
    "\n",
    "    for i in range(9, 0, -1):     \n",
    "        \n",
    "        patron = '(' + str(i) + ' hab)'\n",
    "        regex = re.compile(patron, flags = re.IGNORECASE)    \n",
    "        dataset['cuartos'] = dataset.apply(lambda x: x['cuartos'] if regex.search(\n",
    "                              x['description']) == None else i, axis = 1)\n",
    "        \n",
    "        patron = '(' + num_to_text[i] + ' hab)'\n",
    "        regex = re.compile(patron, flags = re.IGNORECASE)\n",
    "        dataset['cuartos'] = dataset.apply(lambda x: x['cuartos'] if regex.search(\n",
    "                              x['description']) == None else i, axis = 1)\n",
    "                     \n",
    "        patron = '(' + str(i) + ' dorm)'\n",
    "        regex = re.compile(patron, flags = re.IGNORECASE)\n",
    "        dataset['cuartos'] = dataset.apply(lambda x: x['cuartos'] if regex.search(\n",
    "                              x['description']) == None else i, axis = 1)\n",
    "        \n",
    "        patron = '(' + num_to_text2[i] + ' dorm)'\n",
    "        regex = re.compile(patron, flags = re.IGNORECASE)\n",
    "        dataset['cuartos'] = dataset.apply(lambda x: x['cuartos'] if regex.search(\n",
    "                              x['description']) == None else i, axis = 1)\n",
    "        \n",
    "        patron = '(' + str(i) + ' cuarto)'\n",
    "        regex = re.compile(patron, flags = re.IGNORECASE)\n",
    "        dataset['cuartos'] = dataset.apply(lambda x: x['cuartos'] if regex.search(\n",
    "                              x['description']) == None else i, axis = 1)\n",
    "        \n",
    "        patron = '(' + num_to_text2[i] + ' cuarto)'\n",
    "        regex = re.compile(patron, flags = re.IGNORECASE)\n",
    "        dataset['cuartos'] = dataset.apply(lambda x: x['cuartos'] if regex.search(\n",
    "                              x['description']) == None else i, axis = 1)\n",
    "        \n",
    "        patron = '(' + num_to_text3[i] + ' dorm)'\n",
    "        regex = re.compile(patron, flags = re.IGNORECASE)\n",
    "        dataset['cuartos'] = dataset.apply(lambda x: x['cuartos'] if regex.search(\n",
    "                            x['description']) == None else i, axis = 1)\n",
    "        \n",
    "        patron = '(' + num_to_text4[i] + ' hab)'\n",
    "        regex = re.compile(patron, flags = re.IGNORECASE)\n",
    "        dataset['cuartos'] = dataset.apply(lambda x: x['cuartos'] if regex.search(\n",
    "                            x['description']) == None else i, axis = 1)\n",
    "        \n",
    "        \n",
    "        print('Cant. Nulos con iteración: ', i, ' ', dataset['cuartos'].isnull().sum())\n",
    "        \n",
    "    #retorna una serie\n",
    "    return dataset['cuartos']\n"
   ]
  },
  {
   "cell_type": "code",
   "execution_count": null,
   "metadata": {
    "colab": {
     "base_uri": "https://localhost:8080/"
    },
    "id": "I0QYcR_UEVW1",
    "outputId": "22f6f92c-e103-4b64-cc1c-6e744e91128b"
   },
   "outputs": [],
   "source": [
    "serie_cuartos = minar_habitaciones(data.loc[:,['description']])"
   ]
  },
  {
   "cell_type": "markdown",
   "metadata": {
    "id": "iTQdn75JEcpY"
   },
   "source": [
    "Buscando la definición de \"ambientes\", encontramos que pueden aproximarse como la cantidad de habitaciones + 1. Entonces utilizamos los datos de cantidad de habitaciones extraídos en el punto anterior para estimar la cantidad de ambientes de las viviendas para las cuales no tenemos este dato.\n",
    "Fuente: https://planosycasas.net/tres-ambientes-cuantos-dormitorios-son/"
   ]
  },
  {
   "cell_type": "code",
   "execution_count": null,
   "metadata": {
    "colab": {
     "base_uri": "https://localhost:8080/"
    },
    "id": "D_LUeILFEVZh",
    "outputId": "62d5cc26-2666-4cb3-eb33-7b0b9565f79a"
   },
   "outputs": [],
   "source": [
    "data['cuartos'] = serie_cuartos\n",
    "\n",
    "data['rooms'] = data.apply(lambda x: (x['cuartos'] + 1) if pd.isna(x['rooms'])\n",
    "                                      else x['rooms'], axis = 1)\n",
    "                \n",
    "print('Cantidad final de nulos en \"rooms\":', data['rooms'].isnull().sum())\n"
   ]
  },
  {
   "cell_type": "code",
   "execution_count": null,
   "metadata": {
    "colab": {
     "base_uri": "https://localhost:8080/"
    },
    "id": "UoBZIOF4EVca",
    "outputId": "40da86e0-ad0c-4b8a-b63b-34ff60726507"
   },
   "outputs": [],
   "source": [
    "prop_nul_apart = data[data['property_type'] == 'apartment']['rooms'].isnull().sum() / len(data[data['property_type'] == 'apartment']['rooms'])\n",
    "print(\"Proporcion de nulos (ambientes) para departamentos: \", prop_nul_apart.round(2))\n",
    "prop_nul_house = data[data['property_type'] == 'house']['rooms'].isnull().sum() / len(data[data['property_type'] == 'house']['rooms'])\n",
    "print(\"Proporcion de nulos (ambientes) para casas: \", prop_nul_house.round(2))\n",
    "prop_nul_PH = data[data['property_type'] == 'PH']['rooms'].isnull().sum() / len(data[data['property_type'] == 'PH']['rooms'])\n",
    "print(\"Proporcion de nulos (ambientes) para PHs: \", prop_nul_PH.round(2))\n"
   ]
  },
  {
   "cell_type": "code",
   "execution_count": null,
   "metadata": {
    "id": "Nhnq9iLRE6H7"
   },
   "outputs": [],
   "source": [
    "data_post_extraccion = data.copy()  #respaldo de datos para no perder tiempo"
   ]
  },
  {
   "cell_type": "markdown",
   "metadata": {
    "id": "_mMf4d8_hMAu"
   },
   "source": [
    "### Determinación de nuestra columna target"
   ]
  },
  {
   "cell_type": "markdown",
   "metadata": {
    "id": "u_2lbssDkkq7"
   },
   "source": [
    "De la cantidad de nulos que vimos antes, sabemos que hay filas que, aunque tienen dato en precio total, no cuentan con información de precio por superficie. Volvemos a corroborar estos datos para el nuevo DataFrame:"
   ]
  },
  {
   "cell_type": "code",
   "execution_count": null,
   "metadata": {
    "colab": {
     "base_uri": "https://localhost:8080/"
    },
    "id": "42n1d4L_krPs",
    "outputId": "cec46ec9-c744-420a-9698-88f8f56f2ed9"
   },
   "outputs": [],
   "source": [
    "print('Cantidad de nulos en columna \"price\": ', data['price'].isnull().sum())\n",
    "print('Cantidad de nulos en columna \"price_aprox_usd\": ', data['price_aprox_usd'].isnull().sum())\n",
    "print('Cantidad de nulos en columna \"price_aprox_local_currency\": ', data['price_aprox_local_currency'].isnull().sum())\n",
    "print('Cantidad de nulos en columna \"price_usd_per_m2\": ', data['price_usd_per_m2'].isnull().sum())\n",
    "print('Cantidad de nulos en columna \"price_per_m2\": ', data['price_per_m2'].isnull().sum())"
   ]
  },
  {
   "cell_type": "markdown",
   "metadata": {
    "id": "6GTsgQf-k9E0"
   },
   "source": [
    "Como el target para nuestro modelo es el precio por metro cuadrado, necesitamos ese dato o al menos información para deducirlo. Por lo tanto, si no contamos con precio por superficie, o con la superficie del inmueble para calcularlo con el precio, debemos eliminar la fila."
   ]
  },
  {
   "cell_type": "code",
   "execution_count": null,
   "metadata": {
    "colab": {
     "base_uri": "https://localhost:8080/"
    },
    "id": "Q1culVHilC2m",
    "outputId": "a0a46b85-b216-491c-b4d3-5824af483c0e"
   },
   "outputs": [],
   "source": [
    "data_pricesup = data.dropna(subset = ['price_usd_per_m2','price_per_m2','surface_covered_in_m2', \n",
    "                                      'surface_total_in_m2'], how = 'all')\n",
    "\n",
    "data_pricesup.shape"
   ]
  },
  {
   "cell_type": "markdown",
   "metadata": {
    "id": "RK7UTDuMlIKP"
   },
   "source": [
    "Volvemos a corroborar qué nulos tenemos en el DataFrame:"
   ]
  },
  {
   "cell_type": "code",
   "execution_count": null,
   "metadata": {
    "colab": {
     "base_uri": "https://localhost:8080/"
    },
    "id": "Ciz530JhlJq7",
    "outputId": "bca387ce-f8b8-4c71-ae59-faefbf8a7e18"
   },
   "outputs": [],
   "source": [
    "print('Cantidad de nulos en columna \"price_usd_per_m2\": ', \n",
    "      data_pricesup['price_usd_per_m2'].isnull().sum())\n",
    "\n",
    "print('Cantidad de nulos en columna \"price_per_m2\": ', \n",
    "      data_pricesup['price_per_m2'].isnull().sum())\n",
    "\n",
    "print('Cantidad de nulos en columna \"surface_covered_in_m2\": ', \n",
    "      data_pricesup['surface_covered_in_m2'].isnull().sum())\n",
    "\n",
    "print('Cantidad de nulos en columna \"surface_total_in_m2\": ', \n",
    "      data_pricesup['surface_total_in_m2'].isnull().sum())"
   ]
  },
  {
   "cell_type": "markdown",
   "metadata": {
    "id": "5grlnqpxlqen"
   },
   "source": [
    "**Precio por área**\n",
    "\n",
    "Notamos que los precios por área están calculados a veces en base a la columna de \"superficie total\" del inmueble, y a veces con respecto a la \"superficie cubierta\". Esto fue observado de la siguiente manera: la cantidad de datos para los cuales ambas superficies son iguales:"
   ]
  },
  {
   "cell_type": "code",
   "execution_count": null,
   "metadata": {
    "colab": {
     "base_uri": "https://localhost:8080/"
    },
    "id": "iNcaJZU0lx6t",
    "outputId": "7db86578-bd83-40ce-b0d2-610320f67746"
   },
   "outputs": [],
   "source": [
    "(data_pricesup['surface_total_in_m2'] == data_pricesup['surface_covered_in_m2']).sum()"
   ]
  },
  {
   "cell_type": "markdown",
   "metadata": {
    "id": "x6wlaGcrl1rS"
   },
   "source": [
    "no es igual a la cantidad de veces que el precio por metro cuadrado coincide tomando ambas posibilidades:"
   ]
  },
  {
   "cell_type": "code",
   "execution_count": null,
   "metadata": {
    "colab": {
     "base_uri": "https://localhost:8080/"
    },
    "id": "JApzzLvMl6ui",
    "outputId": "0075f5b7-9192-474d-a073-ecba3a987d86"
   },
   "outputs": [],
   "source": [
    "rel_prices = (data_pricesup['price'] / data_pricesup['price_usd_per_m2']).round(1)\n",
    "rel_prices\n",
    "print((rel_prices == data_pricesup['surface_covered_in_m2']).sum())\n",
    "print((rel_prices == data_pricesup['surface_total_in_m2']).sum())"
   ]
  },
  {
   "cell_type": "markdown",
   "metadata": {
    "id": "hbE9yQ70mdi_"
   },
   "source": [
    "Y además la diferencia no se corresponde con la cantidad de valores nulos en cada campo. Por lo tanto, creemos conveniente obtener nuestros propios datos de precio por área. Para calcularlos, tomamos el precio de las propiedades en dólares (que como ya eliminamos los datos nulos, es una columna con datos en todas las filas), y lo tenemos que dividir por la superficie de las propiedades."
   ]
  },
  {
   "cell_type": "markdown",
   "metadata": {
    "id": "5hKsBxVUmiMC"
   },
   "source": [
    "Analizando las columnas relacionadas con la superficie de los inmuebles, vemos que 'surface_covered_in_m2' tiene muchos menos nulos que 'surface_total_in_m2'. "
   ]
  },
  {
   "cell_type": "markdown",
   "metadata": {
    "id": "ymo9dhN8nALT"
   },
   "source": [
    "Miramos la diferencia entre superficie total y cubierta para cada propiedad. ¿Es muy grande?"
   ]
  },
  {
   "cell_type": "code",
   "execution_count": null,
   "metadata": {
    "colab": {
     "base_uri": "https://localhost:8080/"
    },
    "id": "9FyixbMtnHGr",
    "outputId": "b79b5b78-6a3b-42ff-b1fd-6a41853042bb"
   },
   "outputs": [],
   "source": [
    "surface_diff = data_pricesup['surface_total_in_m2'] - data_pricesup['surface_covered_in_m2']\n",
    "surface_diff.describe()"
   ]
  },
  {
   "cell_type": "markdown",
   "metadata": {
    "id": "DXqAlHjKnNOP"
   },
   "source": [
    "Viendo las estadísticas de la Serie, notamos que existen valores negativos los cuales, si bien pueden existir (para el caso de propiedades con varios pisos y sin patio, por ejemplo), no debería tomar valores absolutos muy grandes en la mayoría de los casos. Es posible que estos datos posean información errónea."
   ]
  },
  {
   "cell_type": "markdown",
   "metadata": {
    "id": "RXlda6Shnsn_"
   },
   "source": [
    "Por todo lo expresado anteriormente, tomamos la decisión de eliminar la columna de superficie total, dado que es muy parecida a la superficie cubierta para la mayoría de los casos, y es la que posee mayor cantidad de datos nulos."
   ]
  },
  {
   "cell_type": "code",
   "execution_count": null,
   "metadata": {
    "id": "L21sIA5Xn1JX"
   },
   "outputs": [],
   "source": [
    "data_prices_clean=data_pricesup.dropna(subset=['surface_covered_in_m2'],how='all')"
   ]
  },
  {
   "cell_type": "code",
   "execution_count": null,
   "metadata": {
    "colab": {
     "base_uri": "https://localhost:8080/"
    },
    "id": "rEKJhO2_n5tG",
    "outputId": "0c340d1b-4345-47c1-cf1b-966fe691594f"
   },
   "outputs": [],
   "source": [
    "data_prices_clean[['price_aprox_usd','surface_covered_in_m2']].isnull().sum()"
   ]
  },
  {
   "cell_type": "code",
   "execution_count": null,
   "metadata": {
    "colab": {
     "base_uri": "https://localhost:8080/",
     "height": 300
    },
    "id": "PWJdvVtVoA8T",
    "outputId": "1a482b98-b131-4bec-cf18-3a732696f38e"
   },
   "outputs": [],
   "source": [
    "data_prices_clean[['price_aprox_usd','surface_covered_in_m2']].describe()"
   ]
  },
  {
   "cell_type": "markdown",
   "metadata": {
    "id": "KX70KavbblhA"
   },
   "source": [
    "Volvemos a eliminar algunos datos duplicados que puedan haber surgido luego de la extracción"
   ]
  },
  {
   "cell_type": "code",
   "execution_count": null,
   "metadata": {
    "colab": {
     "base_uri": "https://localhost:8080/"
    },
    "id": "CIduUkbKYgfu",
    "outputId": "c100b2d0-e2d5-4b86-a02a-2d4e9630311c"
   },
   "outputs": [],
   "source": [
    "data_prices_clean.duplicated().sum()"
   ]
  },
  {
   "cell_type": "code",
   "execution_count": null,
   "metadata": {
    "id": "yOtCOTaPYeJz"
   },
   "outputs": [],
   "source": [
    "data_sup = data_prices_clean.drop_duplicates().copy()"
   ]
  },
  {
   "cell_type": "markdown",
   "metadata": {
    "id": "DqEBXL1vZwNG"
   },
   "source": [
    "## Creación de columna *target*"
   ]
  },
  {
   "cell_type": "markdown",
   "metadata": {
    "id": "gSBj6-5Ypk6A"
   },
   "source": [
    "Creamos entonces la columna \"preciousd_m2covered\" dividiendo el precio total en USD por la superficie cubierta de cada propiedad:"
   ]
  },
  {
   "cell_type": "code",
   "execution_count": null,
   "metadata": {
    "id": "G1Dhk5U0ZucT"
   },
   "outputs": [],
   "source": [
    "data_sup[\"preciousd_m2covered\"] = (data_sup[\"price_aprox_usd\"] / data_sup[\"surface_covered_in_m2\"]).copy()\n"
   ]
  },
  {
   "cell_type": "markdown",
   "metadata": {
    "id": "svnFZJlgrJfZ"
   },
   "source": [
    "## Segunda limpieza de columnas\n",
    "\n",
    "Una vez que decidimos crear nuestra propia columna \"target\", podemos eliminar las otras columnas relacionadas con precio y superficie, dejando en el DataFrame también las columnas de partida (\"price_aprox_usd\" y \"surface_covered_in_m2\")."
   ]
  },
  {
   "cell_type": "code",
   "execution_count": null,
   "metadata": {
    "colab": {
     "base_uri": "https://localhost:8080/"
    },
    "id": "_3KP07u7rmGU",
    "outputId": "3c77e30e-0a85-4374-e835-92ee655e98e0"
   },
   "outputs": [],
   "source": [
    "data_sup.columns"
   ]
  },
  {
   "cell_type": "code",
   "execution_count": null,
   "metadata": {
    "id": "8T6Gn6v5rYPn"
   },
   "outputs": [],
   "source": [
    "data = data_sup.drop(columns=[\n",
    "                  'price',\n",
    "                  'price_aprox_local_currency',\n",
    "                  'surface_total_in_m2',\n",
    "                  'price_usd_per_m2',\n",
    "                  'price_per_m2'])"
   ]
  },
  {
   "cell_type": "code",
   "execution_count": null,
   "metadata": {
    "colab": {
     "base_uri": "https://localhost:8080/"
    },
    "id": "C7nIl2JNr2oI",
    "outputId": "4f77fa67-cff8-43d0-87c3-7c9c8ec5bfd5"
   },
   "outputs": [],
   "source": [
    "data.head()"
   ]
  },
  {
   "cell_type": "markdown",
   "metadata": {
    "id": "YBQ2NvrkavKj"
   },
   "source": [
    "## Relación precio sobre superficie cubierta"
   ]
  },
  {
   "cell_type": "markdown",
   "metadata": {
    "id": "l-GEx7fUTRuk"
   },
   "source": [
    "Para un primer análisis rápido de los datos, graficamos la dispersión de precio total con respecto al precio por área."
   ]
  },
  {
   "cell_type": "code",
   "execution_count": null,
   "metadata": {
    "colab": {
     "base_uri": "https://localhost:8080/",
     "height": 309
    },
    "id": "sBuXG52cbgaw",
    "outputId": "a26ab16f-d3de-4c5c-8e59-34ac759cf985"
   },
   "outputs": [],
   "source": [
    "sns.scatterplot(data = data, x = \"surface_covered_in_m2\", y = \"price_aprox_usd\")"
   ]
  },
  {
   "cell_type": "markdown",
   "metadata": {
    "id": "eiQ2YCuumfE4"
   },
   "source": [
    "Si bien observamos la presencia de varios *outliers*, debemos tener en cuenta que hay propiedades de tipo \"store\" que son galpones grandes que claramente aportan datos poco comparables con el de propiedades de tipo residencial.\n",
    "\n",
    "A continuación haremos un gráfco similar pero sin incluir las propiedades de tipo \"store\" y eliminando las propiedades residenciales con superficies superiores a 1000 m2 ya que en general se trata de errores de extracción y/o edificios y hoteles completos."
   ]
  },
  {
   "cell_type": "code",
   "execution_count": null,
   "metadata": {
    "id": "LpJ6_-I7RJ6V"
   },
   "outputs": [],
   "source": [
    "data_no_stores = data.query(\"(property_type != 'store') & (surface_covered_in_m2 < 1000)\")"
   ]
  },
  {
   "cell_type": "code",
   "execution_count": null,
   "metadata": {
    "colab": {
     "base_uri": "https://localhost:8080/",
     "height": 309
    },
    "id": "KqM51k9bTmfu",
    "outputId": "ae44ea50-019c-48b8-bf8d-0345f3fe85c7"
   },
   "outputs": [],
   "source": [
    "sns.scatterplot(data = data_no_stores, x = \"surface_covered_in_m2\", y = \"price_aprox_usd\")"
   ]
  },
  {
   "cell_type": "markdown",
   "metadata": {
    "id": "HT_MZ-ytiMuU"
   },
   "source": [
    "##Eliminación de *outliers*"
   ]
  },
  {
   "cell_type": "markdown",
   "metadata": {
    "id": "Jq2eGwUB-oeH"
   },
   "source": [
    "### Outliers de datos de superficie"
   ]
  },
  {
   "cell_type": "code",
   "execution_count": null,
   "metadata": {
    "colab": {
     "base_uri": "https://localhost:8080/"
    },
    "id": "Vx57EPrpnm-j",
    "outputId": "b8e9c7a6-5dbe-4b01-a301-f2a12d576f5f"
   },
   "outputs": [],
   "source": [
    "data[\"surface_covered_in_m2\"].describe()"
   ]
  },
  {
   "cell_type": "code",
   "execution_count": null,
   "metadata": {
    "colab": {
     "base_uri": "https://localhost:8080/"
    },
    "id": "qgmJCrzNoBvl",
    "outputId": "f2210c39-a735-44f7-83b6-e5a639b8500d"
   },
   "outputs": [],
   "source": [
    "data[\"surface_covered_in_m2\"].median()"
   ]
  },
  {
   "cell_type": "code",
   "execution_count": null,
   "metadata": {
    "colab": {
     "base_uri": "https://localhost:8080/",
     "height": 297
    },
    "id": "x_gK8iXUiKpd",
    "outputId": "5e645f85-d5e9-4474-94af-2b369bc262cf"
   },
   "outputs": [],
   "source": [
    "sns.scatterplot(data = data.reset_index(), x = 'index', y = 'surface_covered_in_m2')"
   ]
  },
  {
   "cell_type": "code",
   "execution_count": null,
   "metadata": {
    "colab": {
     "base_uri": "https://localhost:8080/"
    },
    "id": "kfun-FUazGCJ",
    "outputId": "16e1e78f-6540-4476-b8d9-c148925b5f81"
   },
   "outputs": [],
   "source": [
    "data['property_type'].value_counts()"
   ]
  },
  {
   "cell_type": "markdown",
   "metadata": {
    "id": "8ooPZof7mIKG"
   },
   "source": [
    "Observando las estadísticas, surge que la mayor parte de los datos están concentrados a superficies más bien bajas. Proponemos filtrar los datos quedándonos con superficies cubiertas que estén dentro de 1.5 veces la desviación estándar."
   ]
  },
  {
   "cell_type": "code",
   "execution_count": null,
   "metadata": {
    "colab": {
     "base_uri": "https://localhost:8080/"
    },
    "id": "XrgS0Hz6n5-Z",
    "outputId": "d786c86f-6a66-4c5f-b99c-6d10bfcf1e82"
   },
   "outputs": [],
   "source": [
    "media_surface = data[\"surface_covered_in_m2\"].mean()\n",
    "desvio_surface = data[\"surface_covered_in_m2\"].std()\n",
    "print('Media de superficie:',round(media_surface, 2))\n",
    "print('Desviación estándar de superficie:', round(desvio_surface, 2))"
   ]
  },
  {
   "cell_type": "code",
   "execution_count": null,
   "metadata": {
    "id": "yARoOzp4ppgW"
   },
   "outputs": [],
   "source": [
    "valor_max = (desvio_surface * 1.5) + media_surface\n",
    "data_sin_outliers_superficie = data[(data[\"surface_covered_in_m2\"] < valor_max)]"
   ]
  },
  {
   "cell_type": "code",
   "execution_count": null,
   "metadata": {
    "colab": {
     "base_uri": "https://localhost:8080/",
     "height": 300
    },
    "id": "UOjskhmNoeid",
    "outputId": "2db375c5-e4c3-4cd6-f9b4-a54789386aea"
   },
   "outputs": [],
   "source": [
    "sns.histplot(data_sin_outliers_superficie[\"surface_covered_in_m2\"], bins = 25)"
   ]
  },
  {
   "cell_type": "markdown",
   "metadata": {
    "id": "tkYJ8vVL-JAQ"
   },
   "source": [
    "Observamos que la moda se ubica aproximadamente en los 45 m2 cubiertos y que la gran mayoría de las propiedades se encuentran en menos de 100 m2 cubiertos."
   ]
  },
  {
   "cell_type": "code",
   "execution_count": null,
   "metadata": {
    "colab": {
     "base_uri": "https://localhost:8080/",
     "height": 309
    },
    "id": "_FmxkUnGpkvh",
    "outputId": "cbdaca18-3c0a-42e1-d489-a71b95ca1d4f"
   },
   "outputs": [],
   "source": [
    "sns.scatterplot(data = data_sin_outliers_superficie, x = \"surface_covered_in_m2\", y = \"price_aprox_usd\")"
   ]
  },
  {
   "cell_type": "markdown",
   "metadata": {
    "id": "OpHnxKy4-xln"
   },
   "source": [
    "### Outliers precio usd"
   ]
  },
  {
   "cell_type": "code",
   "execution_count": null,
   "metadata": {
    "colab": {
     "base_uri": "https://localhost:8080/"
    },
    "id": "mqa5q1xA-Apa",
    "outputId": "4d4b8754-5817-4a6c-b54e-edf31ab83d66"
   },
   "outputs": [],
   "source": [
    "data_sin_outliers_superficie[\"price_aprox_usd\"].describe()"
   ]
  },
  {
   "cell_type": "code",
   "execution_count": null,
   "metadata": {
    "colab": {
     "base_uri": "https://localhost:8080/",
     "height": 308
    },
    "id": "D2-BPHrh-icA",
    "outputId": "f34c6673-040f-4a72-edc8-53606cf349f7"
   },
   "outputs": [],
   "source": [
    "sns.scatterplot(data = data_sin_outliers_superficie.reset_index(), x = 'index', y = \"price_aprox_usd\")"
   ]
  },
  {
   "cell_type": "markdown",
   "metadata": {
    "id": "tzldQ-yipN_q"
   },
   "source": [
    "Vemos que hay datos con precios muy por encima de la media. Decidimos primero quedarnos con valores que se encuentren como máximo dentro de 1,5 desviaciones estándar por sobre la media"
   ]
  },
  {
   "cell_type": "code",
   "execution_count": null,
   "metadata": {
    "colab": {
     "base_uri": "https://localhost:8080/"
    },
    "id": "4V1Uo3LXAPSA",
    "outputId": "8ee51f18-1316-4cd8-8732-8d86176212bf"
   },
   "outputs": [],
   "source": [
    "media_price = data[\"price_aprox_usd\"].mean()\n",
    "desvio_price = data[\"price_aprox_usd\"].std()\n",
    "\n",
    "print('Media de precios:',round(media_price, 2))\n",
    "print('Desviación estándar de precios:', round(desvio_price, 2))"
   ]
  },
  {
   "cell_type": "code",
   "execution_count": null,
   "metadata": {
    "id": "sQh8yXOuAY1g"
   },
   "outputs": [],
   "source": [
    "valor_max = (desvio_price*1.5 + media_price)\n",
    "data_sin_outliers = data_sin_outliers_superficie[(data_sin_outliers_superficie[\"price_aprox_usd\"]< valor_max)].copy()"
   ]
  },
  {
   "cell_type": "code",
   "execution_count": null,
   "metadata": {
    "colab": {
     "base_uri": "https://localhost:8080/",
     "height": 298
    },
    "id": "atVvLj4TA3Cu",
    "outputId": "e49ac1ef-813e-4c96-b6dd-9e262bdfe899"
   },
   "outputs": [],
   "source": [
    "sns.histplot(data_sin_outliers[\"price_aprox_usd\"], bins = 30)"
   ]
  },
  {
   "cell_type": "code",
   "execution_count": null,
   "metadata": {
    "colab": {
     "base_uri": "https://localhost:8080/",
     "height": 298
    },
    "id": "n4qOlNLkA9ch",
    "outputId": "2c87150a-71ee-4e27-c252-432ef9595bd6"
   },
   "outputs": [],
   "source": [
    "sns.scatterplot(data = data_sin_outliers, x = \"surface_covered_in_m2\", y = \"price_aprox_usd\")\n"
   ]
  },
  {
   "cell_type": "markdown",
   "metadata": {
    "id": "R86J97oyoeFP"
   },
   "source": [
    "### Outliers en columna target\n",
    "\n",
    "Por último, trabajamos sobre nuestra columna target, con los outliers que puedan haber quedado:"
   ]
  },
  {
   "cell_type": "code",
   "execution_count": null,
   "metadata": {
    "colab": {
     "base_uri": "https://localhost:8080/"
    },
    "id": "CrVfh0PUop88",
    "outputId": "b123fb39-bca4-4194-ba72-3b1bac571e93"
   },
   "outputs": [],
   "source": [
    "data_sin_outliers['preciousd_m2covered'].describe()"
   ]
  },
  {
   "cell_type": "code",
   "execution_count": null,
   "metadata": {
    "colab": {
     "base_uri": "https://localhost:8080/",
     "height": 297
    },
    "id": "hy98TtzXh494",
    "outputId": "0cda9abc-df38-4373-f600-2bb34d9566ac"
   },
   "outputs": [],
   "source": [
    "sns.scatterplot(data = data_sin_outliers.reset_index(), x = 'index', y = 'preciousd_m2covered')"
   ]
  },
  {
   "cell_type": "markdown",
   "metadata": {
    "id": "iTm1CyYFoyM9"
   },
   "source": [
    "La media es aproximadamente 2200 USD/m2 pero los valores máximos alcanzan los 30000 USD/m2. El mínimo es casi de unos 16 USD/m2 (errores posiblemente). No es simple decidir el corte porque, si bien los valores entre Q1 y Q3 oscilan entre 1400 y 2620 USD/m2, sabemos que hay zonas en particular en el país donde los precios no se ajustan a este pequeño rango."
   ]
  },
  {
   "cell_type": "markdown",
   "metadata": {
    "id": "etg9Mt1GqQTu"
   },
   "source": [
    "Por ejemplo, observamos los precios en algunos de los barrios más caros de CABA:"
   ]
  },
  {
   "cell_type": "code",
   "execution_count": null,
   "metadata": {
    "colab": {
     "base_uri": "https://localhost:8080/"
    },
    "id": "AshUJVCMqbVL",
    "outputId": "5723d1c7-6826-424c-ef6c-5e774951d9a0"
   },
   "outputs": [],
   "source": [
    "data_sin_outliers.loc[data_sin_outliers['place_name'] == 'Puerto Madero']['preciousd_m2covered'].quantile(.95)"
   ]
  },
  {
   "cell_type": "markdown",
   "metadata": {
    "id": "pToP7Wp1riAB"
   },
   "source": [
    "Por lo tanto, creemos que un corte en el valor de precio por área en 8850 USD/m2 contendrá la mayor  parte de los datos, sin perder tanta información inclusive sobre las zonas más caras. Por otro lado, eliminamos los valores menores a 500 USD/m2."
   ]
  },
  {
   "cell_type": "code",
   "execution_count": null,
   "metadata": {
    "colab": {
     "base_uri": "https://localhost:8080/",
     "height": 298
    },
    "id": "QvhcKhGypXAF",
    "outputId": "15e61612-846e-4857-f124-95cd28240d86"
   },
   "outputs": [],
   "source": [
    "mask = (data_sin_outliers['preciousd_m2covered'] < 8850) & (data_sin_outliers['preciousd_m2covered'] > 500)\n",
    "data = data_sin_outliers.loc[mask]\n",
    "sns.histplot(data = data['preciousd_m2covered'], bins=25)"
   ]
  },
  {
   "cell_type": "code",
   "execution_count": null,
   "metadata": {
    "colab": {
     "base_uri": "https://localhost:8080/"
    },
    "id": "XsHKPl7XqTgW",
    "outputId": "d7eeffac-bf37-42f4-c18c-d204fd8dfd06"
   },
   "outputs": [],
   "source": [
    "data['price_aprox_usd'].describe()"
   ]
  },
  {
   "cell_type": "code",
   "execution_count": null,
   "metadata": {
    "colab": {
     "base_uri": "https://localhost:8080/"
    },
    "id": "5Ib_o7v4qdc6",
    "outputId": "c586b042-0852-4cf6-ba05-a749650be8af"
   },
   "outputs": [],
   "source": [
    "data['surface_covered_in_m2'].describe()"
   ]
  },
  {
   "cell_type": "markdown",
   "metadata": {
    "id": "Y6hWBa0kE2aV"
   },
   "source": [
    "# Análisis de los datos"
   ]
  },
  {
   "cell_type": "markdown",
   "metadata": {
    "id": "ySmPAGWM7rqr"
   },
   "source": [
    "### Precio por metro cuadrado en función del área cubierta\n",
    "\n",
    "Se observa que, en general, propiedades menores poseen mayor precio por metro cuadrado. Esto puede interpretarse porque en las zonas más densamente pobladas las propiedades suelen ser más pequeñas, pero costosas, porque se ubican cerca de las áreas comerciales más importantes (por ejemplo, en algunos barrios de Capital Federal)."
   ]
  },
  {
   "cell_type": "code",
   "execution_count": null,
   "metadata": {
    "colab": {
     "base_uri": "https://localhost:8080/",
     "height": 298
    },
    "id": "QzIJKnVi7Ywg",
    "outputId": "26639bc5-86ef-40e6-ddf6-0b7ce01195fe"
   },
   "outputs": [],
   "source": [
    "sns.scatterplot(data = data, x = \"surface_covered_in_m2\", y = \"preciousd_m2covered\", hue = 'property_type')"
   ]
  },
  {
   "cell_type": "markdown",
   "metadata": {
    "id": "WoCVNEdmFBQ7"
   },
   "source": [
    "## Agrupados por tipo de propiedad y place name, con precio usd por m2 cubierto"
   ]
  },
  {
   "cell_type": "code",
   "execution_count": null,
   "metadata": {
    "id": "WtoEty3KE_Pe"
   },
   "outputs": [],
   "source": [
    "data_groupby = data.groupby(by = [\"place_name\",\"property_type\"])[\"preciousd_m2covered\"]"
   ]
  },
  {
   "cell_type": "code",
   "execution_count": null,
   "metadata": {
    "id": "81LHie1MFe8j"
   },
   "outputs": [],
   "source": [
    "indice_sort_group = data_groupby.size().sort_values(ascending = False).index \n",
    "# indice ordenado en función de las que tienen mayor cantidad de propiedades en un grupo"
   ]
  },
  {
   "cell_type": "code",
   "execution_count": null,
   "metadata": {
    "colab": {
     "base_uri": "https://localhost:8080/"
    },
    "id": "zAwilFzVFgjZ",
    "outputId": "fe7a372d-f048-4c1b-d9f4-41b199564774"
   },
   "outputs": [],
   "source": [
    "(data_groupby.std()/data_groupby.mean())[indice_sort_group].head(20)"
   ]
  },
  {
   "cell_type": "code",
   "execution_count": null,
   "metadata": {
    "colab": {
     "base_uri": "https://localhost:8080/"
    },
    "id": "-jkD1cnyFheI",
    "outputId": "57322c85-a156-40cf-a33a-074960404f28"
   },
   "outputs": [],
   "source": [
    "# lista de tuplas de grupos con más filas\n",
    "lista_tuplas = (data_groupby.std()/data_groupby.mean())[indice_sort_group].head(10).index\n",
    "(data_groupby.std()/data_groupby.mean())[indice_sort_group].head(10).index"
   ]
  },
  {
   "cell_type": "markdown",
   "metadata": {
    "id": "_Z3hywRgPS7j"
   },
   "source": [
    "### Gráficos de dispersión de las 10 primeras combinaciones (tipo y lugar) con mayores observaciones"
   ]
  },
  {
   "cell_type": "code",
   "execution_count": null,
   "metadata": {
    "id": "xgIENDU0FhZP"
   },
   "outputs": [],
   "source": [
    "def plotear(lista = lista_tuplas):\n",
    "  lista_axis = [[0, 2], [1, 0], [1, 1], [1, 2], [2, 0], [2, 1], [2, 2]]\n",
    "  fig, axs = plt.subplots(3, 3,figsize = (15,15))\n",
    "\n",
    "  data_tupla = data_sin_outliers[(data_sin_outliers[\"property_type\"] == (lista_tuplas[0][1])) &\n",
    "                                   (data_sin_outliers[\"place_name\"] == lista_tuplas[0][0])]\n",
    "  axs[0, 0].scatter(data_tupla[\"surface_covered_in_m2\"], data_tupla[\"price_aprox_usd\"])\n",
    "  axs[0, 0].set_title(lista_tuplas[0])\n",
    "  axs[0, 0].set_xlabel(\"Superficie cubierta en m2\")\n",
    "  axs[0, 0].set_ylabel(\"Precio en dólares\")\n",
    "   \n",
    "  data_tupla = data_sin_outliers[(data_sin_outliers[\"property_type\"] == (lista_tuplas[1][1])) &\n",
    "                                   (data_sin_outliers[\"place_name\"] == lista_tuplas[1][0])]\n",
    "  axs[0, 1].scatter(data_tupla[\"surface_covered_in_m2\"], data_tupla[\"price_aprox_usd\"])\n",
    "  axs[0, 1].set_title(lista_tuplas[1])\n",
    "  axs[0, 1].set_xlabel(\"Superficie cubierta en m2\")\n",
    "  axs[0, 1].set_ylabel(\"Precio en dólares\")\n",
    "\n",
    "  data_tupla = data_sin_outliers[(data_sin_outliers[\"property_type\"] == (lista_tuplas[2][1])) &\n",
    "                                   (data_sin_outliers[\"place_name\"] == lista_tuplas[2][0])]\n",
    "  axs[0, 2].scatter(data_tupla[\"surface_covered_in_m2\"], data_tupla[\"price_aprox_usd\"])\n",
    "  axs[0, 2].set_title(lista_tuplas[2])\n",
    "  axs[0, 2].set_xlabel(\"Superficie cubierta en m2\")\n",
    "  axs[0, 2].set_ylabel(\"Precio en dólares\")\n",
    "   \n",
    "  data_tupla = data_sin_outliers[(data_sin_outliers[\"property_type\"] == (lista_tuplas[3][1])) &\n",
    "                                   (data_sin_outliers[\"place_name\"] == lista_tuplas[3][0])]\n",
    "  axs[1, 0].scatter(data_tupla[\"surface_covered_in_m2\"], data_tupla[\"price_aprox_usd\"])\n",
    "  axs[1, 0].set_title(lista_tuplas[3])\n",
    "  axs[1, 0].set_xlabel(\"Superficie cubierta en m2\")\n",
    "  axs[1, 0].set_ylabel(\"Precio en dólares\")\n",
    "\n",
    "  data_tupla = data_sin_outliers[(data_sin_outliers[\"property_type\"] == (lista_tuplas[4][1])) &\n",
    "                                   (data_sin_outliers[\"place_name\"] == lista_tuplas[4][0])]\n",
    "  axs[1, 1].scatter(data_tupla[\"surface_covered_in_m2\"], data_tupla[\"price_aprox_usd\"])\n",
    "  axs[1, 1].set_title(lista_tuplas[4])\n",
    "  axs[1, 1].set_xlabel(\"Superficie cubierta en m2\")\n",
    "  axs[1, 1].set_ylabel(\"Precio en dólares\")\n",
    "   \n",
    "  data_tupla = data_sin_outliers[(data_sin_outliers[\"property_type\"] == (lista_tuplas[5][1])) &\n",
    "                                   (data_sin_outliers[\"place_name\"] == lista_tuplas[5][0])]\n",
    "  axs[1, 2].scatter(data_tupla[\"surface_covered_in_m2\"], data_tupla[\"price_aprox_usd\"])\n",
    "  axs[1, 2].set_title(lista_tuplas[5])\n",
    "  axs[1, 2].set_xlabel(\"Superficie cubierta en m2\")\n",
    "  axs[1, 2].set_ylabel(\"Precio en dólares\")\n",
    "\n",
    "  data_tupla = data_sin_outliers[(data_sin_outliers[\"property_type\"] == (lista_tuplas[6][1])) &\n",
    "                                   (data_sin_outliers[\"place_name\"] == lista_tuplas[6][0])]\n",
    "  axs[2, 0].scatter(data_tupla[\"surface_covered_in_m2\"], data_tupla[\"price_aprox_usd\"])\n",
    "  axs[2, 0].set_title(lista_tuplas[6])\n",
    "  axs[2, 0].set_xlabel(\"Superficie cubierta en m2\")\n",
    "  axs[2, 0].set_ylabel(\"Precio en dólares\")\n",
    "   \n",
    "  data_tupla = data_sin_outliers[(data_sin_outliers[\"property_type\"] == (lista_tuplas[7][1])) &\n",
    "                                   (data_sin_outliers[\"place_name\"] == lista_tuplas[7][0])]\n",
    "  axs[2, 1].scatter(data_tupla[\"surface_covered_in_m2\"], data_tupla[\"price_aprox_usd\"])\n",
    "  axs[2, 1].set_title(lista_tuplas[7])\n",
    "  axs[2, 1].set_xlabel(\"Superficie cubierta en m2\")\n",
    "  axs[2, 1].set_ylabel(\"Precio en dólares\")\n",
    "\n",
    "  data_tupla = data_sin_outliers[(data_sin_outliers[\"property_type\"] == (lista_tuplas[8][1])) &\n",
    "                                   (data_sin_outliers[\"place_name\"] == lista_tuplas[8][0])]\n",
    "  axs[2, 2].scatter(data_tupla[\"surface_covered_in_m2\"], data_tupla[\"price_aprox_usd\"])\n",
    "  axs[2, 2].set_title(lista_tuplas[8])\n",
    "  axs[2, 2].set_xlabel(\"Superficie cubierta en m2\")\n",
    "  axs[2, 2].set_ylabel(\"Precio en dólares\")\n",
    "  return  plt.show()"
   ]
  },
  {
   "cell_type": "code",
   "execution_count": null,
   "metadata": {
    "colab": {
     "base_uri": "https://localhost:8080/",
     "height": 795
    },
    "id": "sMBKQuyjFhWt",
    "outputId": "937c6b5e-f5b7-411c-a949-523bc0619d42"
   },
   "outputs": [],
   "source": [
    "plotear()"
   ]
  },
  {
   "cell_type": "markdown",
   "metadata": {
    "id": "FNe-Qc1VrmHS"
   },
   "source": [
    "##Propiedades en distintas zonas del país:\n",
    "\n",
    "El campo \"state_name\" da información sobre las provincias en las cuales se encuentran las propiedades en venta. Observamos que para algunas provincias los datos son muy escasos:"
   ]
  },
  {
   "cell_type": "code",
   "execution_count": null,
   "metadata": {
    "colab": {
     "base_uri": "https://localhost:8080/"
    },
    "id": "hzS3RYGGrtEb",
    "outputId": "2549e243-904a-436b-dba0-ca90ae30ed18"
   },
   "outputs": [],
   "source": [
    "data['state_name'].value_counts()"
   ]
  },
  {
   "cell_type": "markdown",
   "metadata": {
    "id": "CL_t1Yp0r1Gq"
   },
   "source": [
    "Por otro lado, este campo siempre tiene información:"
   ]
  },
  {
   "cell_type": "code",
   "execution_count": null,
   "metadata": {
    "colab": {
     "base_uri": "https://localhost:8080/"
    },
    "id": "s7Tp47ugr2ap",
    "outputId": "07624e65-54ad-4ae1-f364-e3f42fc92031"
   },
   "outputs": [],
   "source": [
    "data['state_name'].isnull().sum()"
   ]
  },
  {
   "cell_type": "markdown",
   "metadata": {
    "id": "KVRfSvhUr8J4"
   },
   "source": [
    "Proponemos entonces agrupar las provincias según las regiones a las cuales pertenecen. Para ello, primero vamos a determinar a qué región corresponde cada una, tomando el mapa \"Regiones para el desarrollo económico y social\" de Wikipedia (https://es.wikipedia.org/wiki/Regiones_para_el_desarrollo_econ%C3%B3mico_y_social)."
   ]
  },
  {
   "cell_type": "code",
   "execution_count": null,
   "metadata": {
    "id": "tEOnGVRcr_4O"
   },
   "outputs": [],
   "source": [
    "prov_reg = {'Capital Federal': 'Capital Federal',\n",
    "            'Bs.As. G.B.A. Zona Norte': 'GBA',\n",
    "            'Bs.As. G.B.A. Zona Sur': 'GBA',\n",
    "            'Buenos Aires Costa Atlántica': 'BA Costa',\n",
    "            'Bs.As. G.B.A. Zona Oeste': 'GBA',\n",
    "            'Buenos Aires Interior': 'Buenos Aires Provincia',\n",
    "            'Córdoba': 'Centro',\n",
    "            'Santa Fe': 'Centro',\n",
    "            'Mendoza': 'Nuevo_Cuyo',\n",
    "            'Corrientes': 'Norte_Grande',\n",
    "            'Río Negro': 'Patagonia',\n",
    "            'Misiones': 'Norte_Grande',\n",
    "            'Neuquén': 'Patagonia',\n",
    "            'Tucumán': 'Norte_Grande',\n",
    "            'San Luis': 'Nuevo_Cuyo',\n",
    "            'Chubut': 'Patagonia',\n",
    "            'Entre Ríos': 'Centro',\n",
    "            'Salta': 'Norte_Grande',\n",
    "            'La Pampa': 'Patagonia',\n",
    "            'Chaco': 'Norte_Grande',\n",
    "            'Tierra Del Fuego': 'Patagonia',\n",
    "            'Formosa': 'Norte_Grande',\n",
    "            'Catamarca': 'Norte_Grande',\n",
    "            'Santa Cruz': 'Patagonia',\n",
    "            'Jujuy': 'Norte_Grande',\n",
    "            'San Juan': 'Nuevo_Cuyo',\n",
    "            'Santiago Del Estero': 'Norte_Grande',\n",
    "            'La Rioja': 'Nuevo_Cuyo'}"
   ]
  },
  {
   "cell_type": "code",
   "execution_count": null,
   "metadata": {
    "id": "OjLcNmbSsFus"
   },
   "outputs": [],
   "source": [
    "data_region = data.copy()\n",
    "data_region['region'] = data_region['state_name'].replace(prov_reg)"
   ]
  },
  {
   "cell_type": "code",
   "execution_count": null,
   "metadata": {
    "colab": {
     "base_uri": "https://localhost:8080/",
     "height": 363
    },
    "id": "VEErLaFMsTW9",
    "outputId": "8ee3b12e-abba-4742-c2d2-60b5ee4163f4"
   },
   "outputs": [],
   "source": [
    "data_region[['state_name','region']].head(10)"
   ]
  },
  {
   "cell_type": "code",
   "execution_count": null,
   "metadata": {
    "colab": {
     "base_uri": "https://localhost:8080/"
    },
    "id": "RGO6m-MRsaxK",
    "outputId": "6517f581-17bd-4f8e-8bc2-76a008c880b5"
   },
   "outputs": [],
   "source": [
    "data_region['region'].value_counts()"
   ]
  },
  {
   "cell_type": "code",
   "execution_count": null,
   "metadata": {
    "colab": {
     "base_uri": "https://localhost:8080/",
     "height": 331
    },
    "id": "mbC4CiKWyNoV",
    "outputId": "77b23cc3-108a-4e65-9899-10755f0a31b9"
   },
   "outputs": [],
   "source": [
    "data_reg = data_region.groupby(by = 'region').mean()\n",
    "data_reg_ord = data_reg[['price_aprox_usd','surface_covered_in_m2','preciousd_m2covered']].sort_values(by = 'preciousd_m2covered', ascending = False)\n",
    "data_reg_ord"
   ]
  },
  {
   "cell_type": "code",
   "execution_count": null,
   "metadata": {
    "colab": {
     "base_uri": "https://localhost:8080/",
     "height": 492
    },
    "id": "dqTvYvgGKZwd",
    "outputId": "ad0ef64f-0945-4376-8dd1-e642d11d5ff0"
   },
   "outputs": [],
   "source": [
    "data_reg_plot = data_reg_ord.reset_index()\n",
    "\n",
    "plt.figure(figsize=(10,6))\n",
    "sns.barplot(data=data_reg_plot, x=\"region\", y=\"preciousd_m2covered\");\n",
    "plt.xticks(rotation=90);"
   ]
  },
  {
   "cell_type": "markdown",
   "metadata": {
    "id": "hM66eAOAKl84"
   },
   "source": [
    "De la tabla y el gráfico anterior observamos que el precio por metro cuadrado es mayor en las regiones más ricas del país, tales como Capital Federal y la Patagonia, y es más bajo en zonas más desfavorables, como Cuyo o el Norte argentino."
   ]
  },
  {
   "cell_type": "code",
   "execution_count": null,
   "metadata": {
    "colab": {
     "base_uri": "https://localhost:8080/",
     "height": 389
    },
    "id": "iVoDLOaL2KIu",
    "outputId": "15a34498-50fd-40e6-cf23-4db2d785c599"
   },
   "outputs": [],
   "source": [
    "plt.figure(figsize=(10,6))\n",
    "sns.scatterplot(data=data_region, x=\"surface_covered_in_m2\", y=\"preciousd_m2covered\", hue='region',s=10);"
   ]
  },
  {
   "cell_type": "markdown",
   "metadata": {
    "id": "km3SfxlJK46u"
   },
   "source": [
    "Graficando el precio por área en función de la superficie cubierta, observamos la relación inversa que describimos más arriba, pero con el análisis por región podemos confirmar que las propiedades con mayor valor por m2, y que son las de menor superficie, están ubicadas en Capital Federal, donde la densidad poblacional y la actividad económica dictan los valores de mercado."
   ]
  },
  {
   "cell_type": "markdown",
   "metadata": {
    "id": "27G4dWfsEzkL"
   },
   "source": [
    "## Correlacion de cantidad de ambientes y preciousd_m2covered de las propiedades discriminadas por \"place_name\""
   ]
  },
  {
   "cell_type": "markdown",
   "metadata": {
    "id": "LiiutggljJXX"
   },
   "source": [
    "Este análisis no toma en cuenta las propiedades tipo \"store\"."
   ]
  },
  {
   "cell_type": "code",
   "execution_count": null,
   "metadata": {
    "colab": {
     "base_uri": "https://localhost:8080/",
     "height": 1000
    },
    "id": "6C8ShWZXE1Xc",
    "outputId": "ad485af5-a991-4422-9112-c48cfaa73037"
   },
   "outputs": [],
   "source": [
    "place_name = []\n",
    "correlacion = []\n",
    "prop_nulos = []\n",
    "cant_datos = []\n",
    "\n",
    "data_sin_stores = data[data[\n",
    "                  'property_type'] != 'store'].loc[:, ['place_name', 'preciousd_m2covered', 'rooms']]\n",
    "\n",
    "for place in data_sin_stores['place_name'].value_counts().index:\n",
    "    place_name.append(place)\n",
    "    data_aux = data_sin_stores[data['place_name'] == place]\n",
    "    corr = data_aux['preciousd_m2covered'].corr(data_aux['rooms'])\n",
    "    correlacion.append(corr)\n",
    "    cd = len(data_aux)\n",
    "    cant_datos.append(cd)\n",
    "    proporcion_nulos = data_aux['rooms'].isnull().sum() / cd\n",
    "    prop_nulos.append(proporcion_nulos)\n",
    "\n",
    "data_corr = pd.DataFrame({'Place_Name': place_name,\n",
    "                          'Correlacion': correlacion,\n",
    "                          'Prop_Nulos': prop_nulos,\n",
    "                          'Cant_Datos': cant_datos})\n",
    "\n",
    "print('\\n\\nEn la siguiente tabla se muestran las primeras 50 mejores correlaciones. '\n",
    "      'Solo se muestran los valores donde se dispone de mas de 50 datos y una proporcion '\n",
    "      'de nulos inferior al 10%. Los tipos de propiedades \"store\" no se incluyen \\n\\n\\n')\n",
    "\n",
    "data_corr[(data_corr['Cant_Datos'] > 50) & (data_corr['Prop_Nulos'] < 0.10)].sort_values(\n",
    "          'Correlacion', ascending = True).head(50)\n"
   ]
  },
  {
   "cell_type": "markdown",
   "metadata": {
    "id": "Q7z0jOqciITJ"
   },
   "source": [
    "En muchos de los place_names observamos una correlación inversa bastante marcada (algo lógico), pero no estamos en condiciones de afirmar desde los datos que sea una tendencia para todas las localidades"
   ]
  },
  {
   "cell_type": "markdown",
   "metadata": {
    "id": "BtLrBy2iq3If"
   },
   "source": [
    "## Análisis con Geopandas\n",
    "\n",
    "Como vimos, el precio por m2 de una propiedad es muy dependiente de su ubicación espacial exacta. Por ejemplo, dos departamentos con características similares pueden tener precios muy distintos dependiendo de dónde se ubican, en una zona noble de una ciudad, o lejos de un centro urbano grande. Por lo tanto, haremos ahora un análisis ilustrativo y cuantitativo de cómo los precios por metro cuadrado cambian con la ubicación exacta usando directamente las columnas lat/lon y Geopandas. No vamos a usar, por lo tanto, las columnas \"place_name\" y \"state_name\", que muchas veces no contienen toda la información necesaria para ubicar el inmueble.\n",
    "\n",
    "Empezamos con nuestro dataframe limpio, poniendo el foco en las columnas que nos interesan."
   ]
  },
  {
   "cell_type": "code",
   "execution_count": null,
   "metadata": {
    "id": "YnfDXBCAcjDe"
   },
   "outputs": [],
   "source": [
    "# Elegiendo las columnas del dataframe previamente limpio\n",
    "data_gpd=data[['price_aprox_usd','preciousd_m2covered','lon','lat','rooms']].copy()"
   ]
  },
  {
   "cell_type": "code",
   "execution_count": null,
   "metadata": {
    "colab": {
     "base_uri": "https://localhost:8080/"
    },
    "id": "RpKrGUl6cjcV",
    "outputId": "a16994ce-8264-47c5-c93e-defb78a54175"
   },
   "outputs": [],
   "source": [
    "# Eliminamos las rows con lat/lon nulas: no nos sirve acá \n",
    "print(data_gpd.isnull().sum(),len(data_gpd))\n",
    "data_gpd.dropna(inplace=True)\n",
    "print(data_gpd.isnull().sum(),len(data_gpd))"
   ]
  },
  {
   "cell_type": "code",
   "execution_count": null,
   "metadata": {
    "id": "ITorTefzcjh8"
   },
   "outputs": [],
   "source": [
    "# Generando el Geo-dataframe\n",
    "geo_price = gpd.GeoDataFrame(data_gpd,geometry=gpd.points_from_xy(data_gpd.lon,data_gpd.lat))"
   ]
  },
  {
   "cell_type": "code",
   "execution_count": null,
   "metadata": {
    "colab": {
     "base_uri": "https://localhost:8080/",
     "height": 667
    },
    "id": "ibKMC_nqcjk2",
    "outputId": "512fb7b2-66b5-4609-f37f-b0fb0e69a2ba"
   },
   "outputs": [],
   "source": [
    "# Una mirada en la distribuición de los precios en toda la Argentina\n",
    "fig, ax = plt.subplots(figsize = (8,12))\n",
    "\n",
    "# Mapa del mundo\n",
    "countries = gpd.read_file(gpd.datasets.get_path(\"naturalearth_lowres\")) \n",
    "map_argentina=countries[countries[\"name\"] == \"Argentina\"] \n",
    "# Filtrando Argentina\n",
    "map_argentina.to_crs(epsg=4326).boundary.plot(ax=ax)\n",
    "\n",
    "geo_price.plot(ax=ax,column='preciousd_m2covered',legend = True,\n",
    "                cmap='plasma',alpha=0.5,markersize=25,\n",
    "                 legend_kwds={'shrink': 0.6},vmin=500,vmax=4100);\n",
    "ax.set_title('Precios por m2 en Argentina');"
   ]
  },
  {
   "cell_type": "markdown",
   "metadata": {
    "id": "uNfigrvWd94I"
   },
   "source": [
    "No es fácil ver claramente en este mapa cómo los precios por metro cuadrado se distribuyen en cada ciudad, pero sí se puede ver cómo cambia mucho con la ubicación, y cómo los datos que tenemos están en gran parte concentrados en los grandes centros urbanos. Se puede ver también que no es fácil enfocar en toda la Argentina. Por esto, miremos ahora los precios en Capital Federal, el centro urbano más populoso de Argentina."
   ]
  },
  {
   "cell_type": "code",
   "execution_count": null,
   "metadata": {
    "colab": {
     "base_uri": "https://localhost:8080/",
     "height": 558
    },
    "id": "655g_n4Sd2mE",
    "outputId": "a8b92f0f-b68b-4841-befa-c94baaec6199"
   },
   "outputs": [],
   "source": [
    "# Mapa de Capital Federal\n",
    "city = ox.geocode_to_gdf('Buenos Aires, Argentina')\n",
    "\n",
    "# Puntos de nuestro dataframe que están adentro de la Capital Federal\n",
    "capitalfederal = city.geometry.unary_union\n",
    "dentro_capitalfederal = geo_price[geo_price.geometry.within(capitalfederal)].copy()\n",
    "# Eliminando las menos de 1000 propriedades que cuestan más de 800000 dólares\n",
    "dentro_capitalfederal=dentro_capitalfederal.loc[dentro_capitalfederal['price_aprox_usd']<800000]\n",
    "\n",
    "size=len(dentro_capitalfederal)\n",
    "print(\"Tenemos en total {} puntos dentro de Capital Federal.\".format(size))"
   ]
  },
  {
   "cell_type": "code",
   "execution_count": null,
   "metadata": {},
   "outputs": [],
   "source": [
    "fig, ax = plt.subplots(figsize = (12,12))\n",
    "city = ox.geocode_to_gdf('Buenos Aires, Argentina')\n",
    "city.boundary.plot(ax=ax)\n",
    "\n",
    "dentro_capitalfederal.plot(ax=ax,column='preciousd_m2covered',alpha=0.6,markersize=40,\n",
    "               cmap='coolwarm',legend = True,legend_kwds={'shrink': 0.75},vmax=4000);\n",
    "ax.set_xlim(left=-58.55, right=-58.325);\n",
    "ax.set_ylim(bottom=-34.725, top=-34.525);\n",
    "ax.set_title('Precios por m2 en Capital Federal');"
   ]
  },
  {
   "cell_type": "markdown",
   "metadata": {
    "id": "tHXuvE-XeDvL"
   },
   "source": [
    "Se puede ver que los precios cambian mucho en función del barrio, en un factor de más de 4. Este resultado está en muy buen acuerdo con el Heatmap de precios de alquiler publicado por iProfessional usando datos de Zonaprop, mostrado abajo:\n",
    "![Info.png](data:image/png;base64,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)"
   ]
  },
  {
   "cell_type": "markdown",
   "metadata": {
    "id": "Bx3tfORYeWwR"
   },
   "source": [
    "Vamos hacer una asociación entre lat/lon y barrio, usando el mapa de Barrios de Capital Federal que se puede bajar gratuitamente en \"https://data.buenosaires.gob.ar/dataset/barrios\"."
   ]
  },
  {
   "cell_type": "code",
   "execution_count": null,
   "metadata": {
    "colab": {
     "base_uri": "https://localhost:8080/",
     "height": 649
    },
    "id": "3IM1GHQfd3FR",
    "outputId": "4f37b728-c04f-4621-b6f5-622c50f29997"
   },
   "outputs": [],
   "source": [
    "gdf = gpd.read_file('Ext/barrios_badata_wgs84.shp')\n",
    "gdf = gdf.to_crs(epsg=3857)\n",
    "ax = gdf.boundary.plot(figsize=(14,14), alpha=1.0, edgecolor='blue')\n",
    "ctx.add_basemap(ax, source=ctx.providers.CartoDB.Positron)\n",
    "ax.set_axis_off()"
   ]
  },
  {
   "cell_type": "code",
   "execution_count": null,
   "metadata": {
    "id": "jvhRGdnbd3IV"
   },
   "outputs": [],
   "source": [
    "gpd_barrios = gpd.read_file('Ext/barrios.geojson')\n",
    "print(gpd_barrios.shape)\n",
    "gpd_barrios.head(3)"
   ]
  },
  {
   "cell_type": "code",
   "execution_count": null,
   "metadata": {
    "id": "5-TXigJod3Lc"
   },
   "outputs": [],
   "source": [
    "# Función que asocia un punto con long/lat a una barrio\n",
    "def point_to_barrio(point):\n",
    "    for i in range(0,len(gpd_barrios)):\n",
    "        a=point.within(gpd_barrios.iloc[i,6])\n",
    "        if a:\n",
    "            return gpd_barrios.iloc[i,1]\n",
    "\n",
    "punto_to_barrio=dentro_capitalfederal.geometry.apply(point_to_barrio)"
   ]
  },
  {
   "cell_type": "code",
   "execution_count": null,
   "metadata": {
    "id": "mHnR5Cujd3Qm"
   },
   "outputs": [],
   "source": [
    "dentro_capitalfederal['barrios']=punto_to_barrio\n",
    "dentro_capitalfederal.head()"
   ]
  },
  {
   "cell_type": "markdown",
   "metadata": {
    "id": "8xYckv0tkJa7"
   },
   "source": [
    "Con este nuevo dataframe, podemos evaluar algunas propiedades interesantes. Primero, cuántos puntos por barrio tenemos, y entonces el precio por m2 medio para cada barrio, guardando la info en un dictionary."
   ]
  },
  {
   "cell_type": "code",
   "execution_count": null,
   "metadata": {
    "id": "TUZcDBKzd3V5"
   },
   "outputs": [],
   "source": [
    "counting_points=dentro_capitalfederal.barrios.value_counts()\n",
    "average_price_barrio=dentro_capitalfederal.groupby(by='barrios')['preciousd_m2covered'].mean()\n",
    "dict_average_price_barrio=dict(average_price_barrio)"
   ]
  },
  {
   "cell_type": "code",
   "execution_count": null,
   "metadata": {
    "id": "RcWE3LC6kSGE"
   },
   "outputs": [],
   "source": [
    "filtrado_gpd=gpd_barrios[['BARRIO','geometry']].copy()\n",
    "filtrado_gpd['preciousd_m2covered_media']=filtrado_gpd.BARRIO.replace(dict_average_price_barrio)\n",
    "filtrado_gpd.preciousd_m2covered_media.describe()"
   ]
  },
  {
   "cell_type": "code",
   "execution_count": null,
   "metadata": {
    "id": "lHEMCP5PkSdV"
   },
   "outputs": [],
   "source": [
    "# Haciendo un plot espacial de los valores medios\n",
    "ax = filtrado_gpd.plot(column='preciousd_m2covered_media',figsize=(14,14),alpha=1.0,\n",
    "                       edgecolor='black',legend=True,cmap='BuGn',legend_kwds={'shrink': 0.75},vmax=4000);\n",
    "ax.set_title('Percio en dólares por m2 en Capital Federal para cada barrio');\n",
    "ax.set_xlabel('Longitud');\n",
    "ax.set_ylabel('Latitud');"
   ]
  },
  {
   "cell_type": "markdown",
   "metadata": {
    "id": "psIC88xBkyYj"
   },
   "source": [
    "Este último gráfico es más cuantitativo, y muestra cómo cambia el precio por m2 medio dentro de Capital Federal. Este resultado confirma la importancia de tener una columna \"barrio\" para todos los puntos del dataframe, y no solamente la provincia y ciudad.\n",
    "\n",
    "Por último, vamos a ver cómo cambia el precio total del imueble en función del número de ambientes, considerando los 9 barrios con más puntos que tenemos."
   ]
  },
  {
   "cell_type": "code",
   "execution_count": null,
   "metadata": {
    "id": "Vi2aAZB1kSxi"
   },
   "outputs": [],
   "source": [
    "fig, axs = plt.subplots(3, 3,figsize = (15,15))\n",
    "# Selecionando los 9 barrios con más puntos\n",
    "for x in range(0,9):\n",
    "    i=x\n",
    "    j=0\n",
    "    if i > 5:\n",
    "        j=2\n",
    "        i=i-6\n",
    "    if i > 2:\n",
    "        j=1\n",
    "        i=i-3\n",
    "    mask=dentro_capitalfederal.barrios.isin([counting_points.index[x]])\n",
    "    data_sh=dentro_capitalfederal.loc[mask]\n",
    "    sns.barplot(data=data_sh,x='rooms',y='price_aprox_usd',ax=axs[i,j]);\n",
    "    axs[i,j].set_xlim(left=-0.5,right=4.5),axs[i,j].set_ylim(bottom=0,top=500000);         \n",
    "    axs[i,j].set_title(counting_points.index[x]);         \n",
    "\n",
    "fig.tight_layout()\n",
    "plt.show()"
   ]
  },
  {
   "cell_type": "markdown",
   "metadata": {
    "id": "Z0F6PspYlGcK"
   },
   "source": [
    "Podemos ver que, a pesar de haber un poco de fluctuación, hay una clara correlación entre el número de cuartos y el precio total del inmueble. Pero para cada barrio la correlación no es igual, y esto puede ser entendido por el hecho que el precio por m2 de cada barrio es muy diferente.\n",
    "\n",
    "Se puede ver también que el desvío standard de los precios es más alto a medida que el número de piezas aumenta. De hecho, para propiedades con un valor de \"rooms\" de 6 o más, el desvío es tan grande que el patrón se pierde para algunos barrios. "
   ]
  },
  {
   "cell_type": "markdown",
   "metadata": {
    "id": "4HfyJ3WN3upd"
   },
   "source": [
    "Hagamos un análisis similar enfocándonos ahora en Córdoba capital. El mapa fue descargado de la página de la Municipalidad de Córdoba, en \"https://gobiernoabierto.cordoba.gob.ar/data/datos-abiertos/categoria/geografia-y-mapas/barrios-de-la-ciudad/118\"."
   ]
  },
  {
   "cell_type": "code",
   "execution_count": null,
   "metadata": {
    "id": "4-JmZg44kTA8"
   },
   "outputs": [],
   "source": [
    "gpd_barrios_cordoba = gpd.read_file('Ext/cordoba_Barrio.shp')\n",
    "print(gpd_barrios_cordoba.shape)\n",
    "gpd_barrios_cordoba.head(5)"
   ]
  },
  {
   "cell_type": "code",
   "execution_count": null,
   "metadata": {
    "id": "vK4TXI44kTRp"
   },
   "outputs": [],
   "source": [
    "# Removiendo la primera línea, que está vacia y se llama \"LALALALALA\", o sea....\n",
    "gpd_barrios_cordoba.drop(axis=0,index=gpd_barrios_cordoba.index[0],inplace=True)\n",
    "# Convertendo para lat/lon\n",
    "gpd_barrios_cordoba=gpd_barrios_cordoba.to_crs(epsg=4326)"
   ]
  },
  {
   "cell_type": "code",
   "execution_count": null,
   "metadata": {
    "id": "4P1Nw3mckTi_"
   },
   "outputs": [],
   "source": [
    "# Puntos dentro de Cordoba\n",
    "cordoba = gpd_barrios_cordoba.geometry.unary_union\n",
    "dentro_cordoba = geo_price[geo_price.geometry.within(cordoba)].copy()\n",
    "dentro_cordoba.shape"
   ]
  },
  {
   "cell_type": "code",
   "execution_count": null,
   "metadata": {
    "id": "VmYsWznGl4nA"
   },
   "outputs": [],
   "source": [
    "fig, ax = plt.subplots(figsize = (12,12))\n",
    "gpd_barrios_cordoba.boundary.plot(ax=ax,color='black')\n",
    "dentro_cordoba.plot(ax=ax,column='preciousd_m2covered',alpha=0.75,markersize=35,\n",
    "               cmap='plasma',legend = True,legend_kwds={'shrink': 0.6},vmax=3000);\n",
    "ax.set_title('Precios en dólares por m2 en Cordoba');\n",
    "ax.set_xlabel('Longitud');\n",
    "ax.set_ylabel('Latitud');"
   ]
  },
  {
   "cell_type": "markdown",
   "metadata": {
    "id": "iugobJqKnmAd"
   },
   "source": [
    "De nuevo, vemos una gran dependencia del precio por m2 con la ubiación. Pero el número de puntos que tenemos es mucho más limitado.\n",
    "\n",
    "Vamos a contar cuántos puntos tenemos en cada barrio, y enfocar solamente en los barrios con por lo menos 20 puntos (que ya no es mucho)."
   ]
  },
  {
   "cell_type": "code",
   "execution_count": null,
   "metadata": {
    "id": "1RXuSDC6l47-"
   },
   "outputs": [],
   "source": [
    "# Puntos por barrio\n",
    "def point_to_barrio(point):\n",
    "    for i in range(0,len(gpd_barrios_cordoba)):\n",
    "        a=point.within(gpd_barrios_cordoba.iloc[i,4])\n",
    "        if a:\n",
    "            return gpd_barrios_cordoba.iloc[i,0]\n",
    "punto_to_barrio=dentro_cordoba.geometry.apply(point_to_barrio)\n",
    "dentro_cordoba['barrios']=punto_to_barrio\n",
    "dentro_cordoba.head(2)"
   ]
  },
  {
   "cell_type": "code",
   "execution_count": null,
   "metadata": {
    "id": "Wmg9QSgll5Ox"
   },
   "outputs": [],
   "source": [
    "counting_points_barrio=dentro_cordoba.groupby(by='barrios')['preciousd_m2covered'].count()\n",
    "mask=counting_points_barrio>20\n",
    "# Calculamos la média del precio total y del precio por m2\n",
    "average_price_barrio=dentro_cordoba.groupby(by='barrios')['preciousd_m2covered'].mean()\n",
    "total_price_barrio=dentro_cordoba.groupby(by='barrios')['price_aprox_usd'].mean()\n",
    "average=average_price_barrio[mask]\n",
    "total=total_price_barrio[mask]\n",
    "# Juntamos en un Dataframe la info\n",
    "pd.merge(average,total, on='barrios', how='left').sort_values(by='preciousd_m2covered',ascending=False)"
   ]
  },
  {
   "cell_type": "markdown",
   "metadata": {
    "id": "glHcJ8GCmQ-p"
   },
   "source": [
    "Como pasó en Capital Federal, el precio del inmueble es muy dependiente de la ubicación. Es interesante también notar que en el barrio Nueva Córdoba los precios totales de los inmuebles no son los más altos, pero el precio por m2 sí. Esto indica que Nueva Córdoba es un barrio con alta concentración poblacional, donde el m2 vale mucho y los inmuebles son en general no tan grandes.\n",
    "\n",
    "Infelizmente, el número de barrios del database proporcionado por la municipalidad de Córdoba es muy grande, más de 500, y tenemos en torno a 1200 puntos en nuestro dataframe original. 1200 puntos distribuidos en 500 barrios no nos permite hacer un análisis similar al que fue hecho para Buenos Aires, con precios proyectados en un mapa. Por lo tanto, cerramos acá el análisis de Córdoba.\n",
    "\n",
    "Resumiendo, con Geopandas vemos ilustrativamente y cuantitativamente la dependencia entre el precio por m2 y la ubicación del inmueble, o sea, la provincia, ciudad y principalmente barrio en que se ubica. Concluimos que, sin la información del barrio, no hay cómo predicir con precisión el precio por m2 del inmueble. La ubicación es de hecho una característica imprescindible para la correcta  determinación del precio de un inmueble."
   ]
  },
  {
   "cell_type": "markdown",
   "metadata": {
    "id": "WBks9ybZgJRq"
   },
   "source": [
    "## Otras columnas que podrían agregar señal al dataset"
   ]
  },
  {
   "cell_type": "markdown",
   "metadata": {
    "id": "y-EGjZhjWsEM"
   },
   "source": [
    "Comenzamos creando una columna que contenga el valor 1 para aquellas propiedades que disponen de (o tienen acceso a) una piscina y 0 en otro caso. Para esto buscamos palabras clave como \"piscina\" o \"pileta\" en la descripción de la propiedad"
   ]
  },
  {
   "cell_type": "code",
   "execution_count": null,
   "metadata": {
    "colab": {
     "base_uri": "https://localhost:8080/"
    },
    "id": "QC-dMikzWrGW",
    "outputId": "5110c01c-2677-488f-8187-d24b9887b6a7"
   },
   "outputs": [],
   "source": [
    "data['piscina'] = data['description'].str.contains('pisc|pilet')"
   ]
  },
  {
   "cell_type": "code",
   "execution_count": null,
   "metadata": {
    "colab": {
     "base_uri": "https://localhost:8080/"
    },
    "id": "_jsmv07Dgyhc",
    "outputId": "fd68b0e1-44b8-4dfe-ff92-8af3f2f6cb2e"
   },
   "outputs": [],
   "source": [
    "data['garage'] = data['description'].str.contains('coche|garage')"
   ]
  },
  {
   "cell_type": "code",
   "execution_count": null,
   "metadata": {
    "colab": {
     "base_uri": "https://localhost:8080/"
    },
    "id": "F-5pic1EWrJK",
    "outputId": "16ab2c6a-c212-4efa-c2db-93dbd4ade913"
   },
   "outputs": [],
   "source": [
    "data[(data['piscina'] == 1) & (data['property_type'] == 'house')]['price_aprox_usd'].mean()"
   ]
  },
  {
   "cell_type": "code",
   "execution_count": null,
   "metadata": {
    "colab": {
     "base_uri": "https://localhost:8080/"
    },
    "id": "KYFqlzriWrMi",
    "outputId": "2b55ca49-4c56-4f1e-927a-706917fddec1"
   },
   "outputs": [],
   "source": [
    " data[(data['piscina'] == 0) & (data['property_type'] == 'house')]['price_aprox_usd'].mean()"
   ]
  },
  {
   "cell_type": "markdown",
   "metadata": {
    "id": "vRhif7lJhASL"
   },
   "source": [
    "Repetimos el mismo proceso anterior pero en este caso buscando las propiedades que disponen de (o tienen acceso a) una cochera"
   ]
  },
  {
   "cell_type": "code",
   "execution_count": null,
   "metadata": {
    "colab": {
     "base_uri": "https://localhost:8080/"
    },
    "id": "_TtqOCL5YLXH",
    "outputId": "6a4ff5b9-400f-427b-ee6c-b6925c7e51a5"
   },
   "outputs": [],
   "source": [
    "data[(data['garage'] == 1) & (data['property_type'] == 'apartment') & \n",
    "     (data['place_name'] == 'Capital Federal')]['preciousd_m2covered'].mean()"
   ]
  },
  {
   "cell_type": "code",
   "execution_count": null,
   "metadata": {
    "colab": {
     "base_uri": "https://localhost:8080/"
    },
    "id": "9S0W7_LsYNea",
    "outputId": "ba146352-0cae-487a-84ba-b62274f4a8f9"
   },
   "outputs": [],
   "source": [
    "data[(data['garage'] == 0) & (data['property_type'] == 'apartment') & \n",
    "     (data['place_name'] == 'Capital Federal')]['preciousd_m2covered'].mean()"
   ]
  },
  {
   "cell_type": "code",
   "execution_count": null,
   "metadata": {
    "colab": {
     "base_uri": "https://localhost:8080/"
    },
    "id": "SKtTLZkE2R0m",
    "outputId": "6b36b823-317b-4395-92ab-ddd2a18856b6"
   },
   "outputs": [],
   "source": [
    "data[(data['piscina'] == 1) & (data['property_type'] == 'house') & \n",
    "     (data['place_name'] == 'Capital Federal')]['price_aprox_usd'].mean()"
   ]
  },
  {
   "cell_type": "code",
   "execution_count": null,
   "metadata": {
    "colab": {
     "base_uri": "https://localhost:8080/"
    },
    "id": "FLj4yB642XAi",
    "outputId": "39b493d2-3575-427d-b394-4dae56773222"
   },
   "outputs": [],
   "source": [
    "data[(data['piscina'] == 0) & (data['property_type'] == 'house') & \n",
    "     (data['place_name'] == 'Capital Federal')]['price_aprox_usd'].mean()"
   ]
  },
  {
   "cell_type": "markdown",
   "metadata": {
    "id": "_as9X6B-kh7h"
   },
   "source": [
    "Observamos que no logramos datos útiles con respecto al valor por metro cuadrado pero sí vimos una relación apreciable con respecto al valor total de las propiedades."
   ]
  },
  {
   "cell_type": "markdown",
   "metadata": {
    "id": "j3QKnfZzLGuk"
   },
   "source": [
    "## Análisis texto"
   ]
  },
  {
   "cell_type": "markdown",
   "metadata": {
    "id": "NxWcgSZL7M14"
   },
   "source": [
    "### Preparación de columna texto"
   ]
  },
  {
   "cell_type": "code",
   "execution_count": null,
   "metadata": {
    "id": "-VJdk19HLGuk"
   },
   "outputs": [],
   "source": [
    "# Concateno columnas de texto\n",
    "data[\"texto\"] = data[\"title\"] + data[\"description\"]"
   ]
  },
  {
   "cell_type": "code",
   "execution_count": null,
   "metadata": {
    "id": "SavYSFyNLGuk"
   },
   "outputs": [],
   "source": [
    "# Dropeo columnas title y description\n",
    "data.drop(columns = [\"description\", \"title\"], inplace = True)"
   ]
  },
  {
   "cell_type": "code",
   "execution_count": null,
   "metadata": {
    "id": "TR3i796ULGuk"
   },
   "outputs": [],
   "source": [
    "data[\"texto\"].fillna(\"\", inplace = True)"
   ]
  },
  {
   "cell_type": "markdown",
   "metadata": {
    "id": "E50yKunL0Odn"
   },
   "source": [
    "### Medias con palabras que implican un mayor valor"
   ]
  },
  {
   "cell_type": "markdown",
   "metadata": {
    "id": "ZG5uTGuTdgYi"
   },
   "source": [
    "Hay palabras como *rentabilidad, invertir, proyecto, piscina, vista, cerca, exclusivo* o *esquina* que implican un mayor valor de una propiedad. También indican un mayor valor en el precio por metro cuadrado.\n",
    "Para el caso de precio total, se incrementa un 11% las que contienen esas palabras, mientras que el valor por metro cuadrado lo hace un 12% contra el promedio general.\n",
    "Otra manera de verlo es la comparación de precios totales entre los inmbuebles que tienen esas palabras en su texto, contra los que no. En ese caso notamos que que los inmuebles con palabras que denotan mayor valor son un 20% más caros que los que no, y su valor por metro cuadrado es un 22% superior."
   ]
  },
  {
   "cell_type": "markdown",
   "metadata": {
    "id": "Inv_hpzJiMKB"
   },
   "source": [
    "Promedios de precio total de inmuebles con y sin las mencionadas palabras"
   ]
  },
  {
   "cell_type": "code",
   "execution_count": null,
   "metadata": {
    "id": "jdnD85CJbS5n"
   },
   "outputs": [],
   "source": [
    "# Todos los inmuebles\n",
    "data[\"price_aprox_usd\"].mean()"
   ]
  },
  {
   "cell_type": "code",
   "execution_count": null,
   "metadata": {
    "id": "NQhCbDnCbMPn"
   },
   "outputs": [],
   "source": [
    "# Inmuebles con palabras de alto valor\n",
    "data.loc[\n",
    "         (data[\"texto\"].str.\n",
    "          contains(\"Renta|invertir|Invertir|renta|proyect|piscin|vist|cerca|esquin|exclusiv|Proyect|Piscin|Vist|Cerc|Esquin|Exclusiv\"))\n",
    "         ][\"price_aprox_usd\"].mean()"
   ]
  },
  {
   "cell_type": "code",
   "execution_count": null,
   "metadata": {
    "id": "ygHrUPVhisjP"
   },
   "outputs": [],
   "source": [
    "# Inmuebles sin palabras de alto valor\n",
    "data.loc[\n",
    "         (data[\"texto\"].str.\n",
    "          contains(\"Renta|invertir|Invertir|renta|proyect|piscin|vist|cerca|esquin|exclusiv|Proyect|Piscin|Vist|Cerc|Esquin|Exclusiv\") == False)\n",
    "         ][\"price_aprox_usd\"].mean()"
   ]
  },
  {
   "cell_type": "markdown",
   "metadata": {
    "id": "VZSbLVG5i-Jm"
   },
   "source": [
    "Promedios de precio por metro cuadrado construido de inmuebles con y sin las mencionadas palabras"
   ]
  },
  {
   "cell_type": "code",
   "execution_count": null,
   "metadata": {
    "id": "YoQPcGLweZMs"
   },
   "outputs": [],
   "source": [
    "# Todos los inmuebles\n",
    "data[\"preciousd_m2covered\"].mean()"
   ]
  },
  {
   "cell_type": "code",
   "execution_count": null,
   "metadata": {
    "id": "eyGECzYeeZMt"
   },
   "outputs": [],
   "source": [
    "# Inmuebles con palabras de alto valor\n",
    "data.loc[\n",
    "         (data[\"texto\"].str.\n",
    "          contains(\"Renta|invertir|Invertir|renta|proyect|piscin|vist|cerca|esquin|exclusiv|Proyect|Piscin|Vist|Cerc|Esquin|Exclusiv\"))\n",
    "         ][\"preciousd_m2covered\"].mean()"
   ]
  },
  {
   "cell_type": "code",
   "execution_count": null,
   "metadata": {
    "id": "XRCMTh9vjEIi"
   },
   "outputs": [],
   "source": [
    "# Inmuebles sin palabras de alto valor\n",
    "data.loc[\n",
    "         (data[\"texto\"].str.\n",
    "          contains(\"Renta|invertir|Invertir|renta|proyect|piscin|vist|cerca|esquin|exclusiv|Proyect|Piscin|Vist|Cerc|Esquin|Exclusiv\") == False)\n",
    "         ][\"preciousd_m2covered\"].mean()"
   ]
  },
  {
   "cell_type": "markdown",
   "metadata": {
    "id": "-frYRAGImFQq"
   },
   "source": [
    "### Columna indicio_mayor_valor"
   ]
  },
  {
   "cell_type": "markdown",
   "metadata": {},
   "source": [
    "Sea que se compare con el valor total del inmueble o con el valor por metro cuadrado de superficie cubierta queda la luz que identificar esas propiedades en una feature (columna) podrían permitir a un modelo tener más precisión al momento de la predicción."
   ]
  },
  {
   "cell_type": "code",
   "execution_count": null,
   "metadata": {
    "id": "9WceJrOImZ1y"
   },
   "outputs": [],
   "source": [
    "def indicio_valor(x):\n",
    "  lista_palabras_valor = [\"renta\", \"invertir\", \"proyect\", \"vist\", \"cerca\", \"esquin\", \"exclusiv\", \"piscin\"]\n",
    "  for i in lista_palabras_valor:\n",
    "    if i in x.lower():\n",
    "      return 1\n",
    "  \n",
    "  return 0"
   ]
  },
  {
   "cell_type": "code",
   "execution_count": null,
   "metadata": {
    "id": "s72ZjgwEump6"
   },
   "outputs": [],
   "source": [
    "data[\"valor_texto\"] = data[\"texto\"].apply(indicio_valor)\n",
    "data[\"valor_texto\"] # Boolean, indicando presencia (1) o no (0)"
   ]
  },
  {
   "cell_type": "markdown",
   "metadata": {
    "id": "4RbAA4pA9LO1"
   },
   "source": [
    "# Conclusiones"
   ]
  },
  {
   "cell_type": "markdown",
   "metadata": {
    "id": "bNBSuqKc9N4j"
   },
   "source": [
    "\n",
    "\n",
    "*   Los datos proporcionados contienen información sobre inmuebles en venta en Argentina\n",
    "*   Nuestro objetivo principal fue limpiar, completar, y analizar los datos, para intentar entender cómo es la variación en el precio por área de cada propiedad en función de las distintas características que posee\n",
    "*   Debido a distintos datos faltantes, erróneos o confusos, creímos conveniente generar una columna *target* propia, con información sobre el precio en dólares dividido por el área cubierta de los inmuebles\n",
    "*   Si bien la columna en la que se adiciona una descripción para el inmueble no da información directa, vimos que es posible extraer algunos datos que sirvieron para completar algunas columnas con faltantes\n",
    "*   Observamos que el precio por metro cuadrado es extremadamente dependiente de la localización de la propiedad, siendo este un dato indispensable para un correcto análisis de mercado\n",
    "*   Esta dependencia con la localización no solo se ve plasmada en el precio total de los inmuebles, sino que observamos que en las zonas más densamente pobladas, donde la actividad económica suele ser más importante, el precio por metro cuadrado es mucho más alto, haciendo que propiedades pequeñas posean un valor absoluto en dólares muy alto\n",
    "*   Debido a la importancia del dato, sugerimos a la inmobiliaria Properati que la inclusión de la localización de las propiedades sea obligatoria en la carga de inmuebles a la base de datos, de preferencia seleccionando de opciones preexistentes.\n",
    "\n"
   ]
  },
  {
   "cell_type": "code",
   "execution_count": null,
   "metadata": {
    "id": "mZFQL9CCCNls"
   },
   "outputs": [],
   "source": []
  }
 ],
 "metadata": {
  "colab": {
   "collapsed_sections": [
    "zJwGd9nkTi26",
    "umdsv8cKhqEJ",
    "_mMf4d8_hMAu",
    "svnFZJlgrJfZ",
    "YBQ2NvrkavKj"
   ],
   "name": "Properaty_G2.ipynb",
   "provenance": [],
   "toc_visible": true
  },
  "kernelspec": {
   "display_name": "Python 3 (ipykernel)",
   "language": "python",
   "name": "python3"
  },
  "language_info": {
   "codemirror_mode": {
    "name": "ipython",
    "version": 3
   },
   "file_extension": ".py",
   "mimetype": "text/x-python",
   "name": "python",
   "nbconvert_exporter": "python",
   "pygments_lexer": "ipython3",
   "version": "3.7.11"
  }
 },
 "nbformat": 4,
 "nbformat_minor": 4
}
